{
  "nbformat": 4,
  "nbformat_minor": 0,
  "metadata": {
    "colab": {
      "provenance": [],
      "authorship_tag": "ABX9TyOCo0dNstGLjCToAEEMXzQ8",
      "include_colab_link": true
    },
    "kernelspec": {
      "name": "python3",
      "display_name": "Python 3"
    },
    "language_info": {
      "name": "python"
    }
  },
  "cells": [
    {
      "cell_type": "markdown",
      "metadata": {
        "id": "view-in-github",
        "colab_type": "text"
      },
      "source": [
        "<a href=\"https://colab.research.google.com/github/Iam-whizzy/Gen-AI/blob/main/Python_intro.ipynb\" target=\"_parent\"><img src=\"https://colab.research.google.com/assets/colab-badge.svg\" alt=\"Open In Colab\"/></a>"
      ]
    },
    {
      "cell_type": "code",
      "execution_count": null,
      "metadata": {
        "colab": {
          "base_uri": "https://localhost:8080/"
        },
        "id": "sW2fU2ryuQV1",
        "outputId": "cffc1c7e-5a65-496c-ba6a-58fb7b1ec033"
      },
      "outputs": [
        {
          "output_type": "stream",
          "name": "stdout",
          "text": [
            "Hello World\n"
          ]
        }
      ],
      "source": [
        "# DAY 5/100\n",
        "# Introduction to Python programming\n",
        "# Python was created in 1991\n",
        "# Easy to learn because of its a simple syntax similar to the English Langugae\n",
        "# Can be used for various purposes including web development, cybersecurity, data science, artificial intelligence, game development, and more.\n",
        "# Let's write our first python line of code\n",
        "\n",
        "print(\"Hello World\")\n"
      ]
    },
    {
      "cell_type": "code",
      "source": [
        "# PYTHON SYNTAX\n",
        "# 1. Python Comments\n",
        "# These are like notes to your code. You code while writing notes about your code so that you or someoneelse can understand what you did.\n",
        "# It is also important when someone else will be reviewing your code or incase you will be working in a team.\n",
        "# Or let's say you code an app for someone and sometime later because of some reason you are not the one maintaining the code. The comments are for that someone.\n",
        "# Comments are initialized using \"#\" like these green text we have been writing.\n"
      ],
      "metadata": {
        "collapsed": true,
        "id": "yUye7yQqyBE9"
      },
      "execution_count": null,
      "outputs": []
    },
    {
      "cell_type": "code",
      "source": [
        "# 2. Python Indentation\n",
        "# For example in a code like the one below\n",
        "# Below if a > b: you can see an indentation before print\n",
        "# Indentation can cause your code to not run or in other terms throw an error\n",
        "\n",
        "a = 10\n",
        "b = 20\n",
        "if a > b:\n",
        "    print(\"a is greater than b\")\n",
        "else:\n",
        "    print(\"b is greater than a\")\n",
        "\n"
      ],
      "metadata": {
        "colab": {
          "base_uri": "https://localhost:8080/"
        },
        "id": "aS4Xj4fE34b1",
        "outputId": "30b2aca8-2b72-4fb2-9ade-b1829b293a6b"
      },
      "execution_count": null,
      "outputs": [
        {
          "output_type": "stream",
          "name": "stdout",
          "text": [
            "b is greater than a\n"
          ]
        }
      ]
    },
    {
      "cell_type": "code",
      "source": [
        "# 3. Python Variables\n",
        "# Variables are containers for storing data values.\n",
        "# A variable is created the moment you first assign a value to it.\n",
        "# For example in the code above a is the variable while 10 is the value of variable a (Refer to code right above)"
      ],
      "metadata": {
        "id": "y4hplQTw1mzd"
      },
      "execution_count": null,
      "outputs": []
    },
    {
      "cell_type": "code",
      "source": [
        "# 3.1 Variable Names\n",
        "# Rules for Python variables:\n",
        "# 1. A variable name must start with a letter or the underscore character\n",
        "# 2. A variable name cannot start with a number\n",
        "# 3 A variable name can only contain alpha-numeric characters and underscores (A-z, 0-9, and _ )\n",
        "# Variable names are case-sensitive (age, Age and AGE are three different variables)\n",
        "# A variable name cannot be any of the Python keywords. To checkout keywords, visit: (https://www.w3schools.com/python/python_ref_keywords.asp).\n",
        "\n",
        "# Good Example\n",
        "myvar = \"John\"\n",
        "my_var = \"John\"\n",
        "_my_var = \"John\"\n",
        "myVar = \"John\"\n",
        "MYVAR = \"John\"\n",
        "myvar2 = \"John\"\n",
        "\n",
        "# Bad Example\n",
        "2myvar = \"John\"\n",
        "my-var = \"John\"\n",
        "my var = \"John\""
      ],
      "metadata": {
        "id": "bAe0ED5911dV"
      },
      "execution_count": null,
      "outputs": []
    },
    {
      "cell_type": "code",
      "source": [
        "# 3.2 Output Variables\n",
        "# The Python print() function is often used to output variables.\n",
        "# This is where your code is converted to something you can see on the screen\n",
        "# For example I will enter a variable name z and use the print() function to display the the value of z on the screen.\n",
        "\n",
        "z = 33\n",
        "print(z)\n"
      ],
      "metadata": {
        "colab": {
          "base_uri": "https://localhost:8080/"
        },
        "id": "7H3s6EUd3iOE",
        "outputId": "a8062594-33c1-4b27-c209-a7ce26874b87"
      },
      "execution_count": null,
      "outputs": [
        {
          "output_type": "stream",
          "name": "stdout",
          "text": [
            "33\n"
          ]
        }
      ]
    },
    {
      "cell_type": "code",
      "source": [
        "# 3.3 Multi Words Variable Names\n",
        "# There are several techniques you can use to make them more readable;\n",
        "\n",
        "# 1. Camel Case\n",
        "# Each word, except the first, starts with a capital letter:\n",
        "myFirstName = \"Eric\"\n",
        "\n",
        "# 3. Pascal Case\n",
        "# Each word starts with a capital letter:\n",
        "MyFirstName = \"Eric\"\n",
        "\n",
        "# 4. Snake Case\n",
        "# Each word is separated by an underscore character:\n",
        "my_first_name = \"Eric\""
      ],
      "metadata": {
        "id": "KVaLFg-b9tgV"
      },
      "execution_count": null,
      "outputs": []
    },
    {
      "cell_type": "code",
      "source": [
        "a = 5\n",
        "\n",
        "print(type (a))\n"
      ],
      "metadata": {
        "colab": {
          "base_uri": "https://localhost:8080/"
        },
        "id": "9VZ6Fx_KU9It",
        "outputId": "f84a6207-ead9-43f9-9526-21182b5be117"
      },
      "execution_count": null,
      "outputs": [
        {
          "output_type": "stream",
          "name": "stdout",
          "text": [
            "<class 'int'>\n"
          ]
        }
      ]
    },
    {
      "cell_type": "code",
      "source": [
        "# Day 6/100\n",
        "\n",
        "# This is python basics continuation....\n",
        "# Keep the energy. Sometimes it might be a busy and hectic day but our coding days have to be there. People used to go to war."
      ],
      "metadata": {
        "id": "SFucmTCDzb9l"
      },
      "execution_count": null,
      "outputs": []
    },
    {
      "cell_type": "code",
      "source": [
        "# DATATYPES\n",
        "\n",
        "# Today we tackle an animal known as Data Types.\n",
        "# You see the way we have proteins, energy-giving foods & vitamens for food?\n",
        "\n",
        "# 😃As in types of data. Namely:\n",
        "# 👉str, int, float,  list, tuple, dict, set, bool etc.\n",
        "\n",
        "# These are the datatypes we'll be using for now.\n",
        "\n",
        "#Classified further into:\n",
        "# 1. Numbers: int, float\n",
        "# 2. Sequence: str, list, tuple,\n",
        "# 3. Boolean: bool(true or false)\n",
        "# 4. Set: set\n",
        "# 5. Dictionary: dict"
      ],
      "metadata": {
        "id": "Xnp81uGlz25k"
      },
      "execution_count": null,
      "outputs": []
    },
    {
      "cell_type": "code",
      "source": [
        "# 1. Integers (int)\n",
        "# It contains positive or negative whole numbers (without fractions or decimals). No limit to its length\n",
        "\n",
        "# Example: a = 5 here \"a\" is of the data type integer.\n",
        "\n",
        "# You can see and write the code below to confirm the data type.\n",
        "\n",
        "a = 5\n",
        "print(type(a))"
      ],
      "metadata": {
        "colab": {
          "base_uri": "https://localhost:8080/"
        },
        "id": "K7kCYhsF0zd8",
        "outputId": "3f3790ca-fb08-437c-d2c3-74ef94812aed"
      },
      "execution_count": null,
      "outputs": [
        {
          "output_type": "stream",
          "name": "stdout",
          "text": [
            "<class 'int'>\n"
          ]
        }
      ]
    },
    {
      "cell_type": "code",
      "source": [
        "# 2. Float (float)\n",
        "# - It is specified by a decimal point\n",
        "# - e or E can be used to specify scientific notation\n",
        "# You can test type float by replacing value in \"a\" variable in your code cell with a decimal value\n",
        "\n",
        "# Example: b = 5.5\n",
        "\n",
        "b = 5.5\n",
        "print (type(b))"
      ],
      "metadata": {
        "colab": {
          "base_uri": "https://localhost:8080/"
        },
        "id": "qKjLxuMD08sr",
        "outputId": "d039b919-3914-4a3d-b0cd-681075a37de3"
      },
      "execution_count": null,
      "outputs": [
        {
          "output_type": "stream",
          "name": "stdout",
          "text": [
            "<class 'float'>\n"
          ]
        }
      ]
    },
    {
      "cell_type": "code",
      "source": [
        "# 3. String (str)\n",
        "# -  A string is a collection of one or more characters put in a single quote, double quote or triple quote.\n",
        "\n",
        "# Example:  c = \"Hakuna Matata\"\n",
        "\n",
        "c = \"Hakuna Matata\"\n",
        "print(type(c))"
      ],
      "metadata": {
        "colab": {
          "base_uri": "https://localhost:8080/"
        },
        "id": "va_WrAC61NoE",
        "outputId": "7b73f025-13b8-4cef-e2a9-973969941943"
      },
      "execution_count": null,
      "outputs": [
        {
          "output_type": "stream",
          "name": "stdout",
          "text": [
            "<class 'str'>\n"
          ]
        }
      ]
    },
    {
      "cell_type": "code",
      "source": [
        "# 4. List (list)\n",
        "# - Are used to store multiple items in a single variable\n",
        "# - Are created using square brackets\n",
        "# - Write code below and run to print your list on screen\n",
        "# -Lists are ordered, changeable and allow duplicate values\n",
        "# -  The first item has Index zero - [0], the second item [1]\n",
        "\n",
        "my_garage = [\"Volvo\", \"BMW\", \"VW\", \"Audi\"]\n",
        "\n",
        "print(my_garage)"
      ],
      "metadata": {
        "colab": {
          "base_uri": "https://localhost:8080/"
        },
        "id": "PecjOcap1W7r",
        "outputId": "d99b0d2b-75e3-497d-f2b8-78ec0e55d3de"
      },
      "execution_count": null,
      "outputs": [
        {
          "output_type": "stream",
          "name": "stdout",
          "text": [
            "['Volvo', 'BMW', 'VW', 'Audi']\n"
          ]
        }
      ]
    },
    {
      "cell_type": "code",
      "source": [
        "# Important Definitions\n",
        "# Ordered - it means that the items have predefined order and the order will not change\n",
        "# Changeable - we can add or remove items even after list has been created\n",
        "# Allow duplicates - Since lists are indexed, they can have items with the same value\n",
        "\n",
        "# For Example👇\n",
        "\n",
        "# Testing duplicate values to check if \"Allow duplicates\" is true\n",
        "\n",
        "my_garage = [\"Volvo\", \"BMW\", \"VW\", \"Audi\", \"Volvo\"]\n",
        "\n",
        "print(my_garage)"
      ],
      "metadata": {
        "colab": {
          "base_uri": "https://localhost:8080/"
        },
        "id": "YG7P1Wdc1uAU",
        "outputId": "6419326c-0fd6-4ebb-ed50-f3fe3e2e7abd"
      },
      "execution_count": null,
      "outputs": [
        {
          "output_type": "stream",
          "name": "stdout",
          "text": [
            "['Volvo', 'BMW', 'VW', 'Audi', 'Volvo']\n"
          ]
        }
      ]
    },
    {
      "cell_type": "code",
      "source": [
        "# List length - number of items in a list\n",
        "# We use the len() function to determine number of items in a list\n",
        "\n",
        "print(len(my_garage))"
      ],
      "metadata": {
        "colab": {
          "base_uri": "https://localhost:8080/"
        },
        "id": "_kKiyE9n2BZ0",
        "outputId": "fc0976eb-dec0-42c0-e22c-f2348449a7b1"
      },
      "execution_count": null,
      "outputs": [
        {
          "output_type": "stream",
          "name": "stdout",
          "text": [
            "5\n"
          ]
        }
      ]
    },
    {
      "cell_type": "code",
      "source": [
        "# List items can contain other datatypes\n",
        "# They can have str, int, bool data types.\n",
        "# Example:\n",
        "\n",
        "# Assignment: Print each one of them (8 marks)\n",
        "\n",
        "my_garage = [\"Volvo\", \"BMW\", \"VW\", \"Audi\"]\n",
        "my_numbers = [1, 3, 5, 7, 9]\n",
        "my_bool = [True, False, False]\n",
        "\n",
        "print(my_garage)\n",
        "print(my_numbers)\n",
        "print(my_bool)\n",
        "\n",
        "# A list with different datatypes\n",
        "\n",
        "my_characters = [11, \"BMW\", True, 8.9]\n",
        "\n",
        "print(my_characters)\n",
        "\n"
      ],
      "metadata": {
        "id": "PaVIjd6g2QvM"
      },
      "execution_count": null,
      "outputs": []
    },
    {
      "cell_type": "markdown",
      "source": [
        "**DAY 7**\n",
        "\n",
        "Lets use the text feature of our notebook now. We have been using comments and I hope you have understood how they should be used.\n",
        "\n",
        "**Tuples**\n",
        "- They are used to store multiple items in a single variable\n",
        "\n",
        "They are :\n",
        "- written in round brackets\n",
        "- ordered: Means items have a defined order which does not change\n",
        "- unchangeable/ immutable - We cannot change, add or remove items after it has been created\n",
        "- Allow duplicates - They can have items with similar value\n",
        "\n",
        "Tuples are indexed with first item being [0] and the second item with index [1] and so forth and so forth."
      ],
      "metadata": {
        "id": "EBFoTKe_mot7"
      }
    },
    {
      "cell_type": "code",
      "source": [
        "# Notice the curved brackets/ rounded brackets\n",
        "\n",
        "my_garage = (\"Audi\", \"BMW\", \"vw\", \"Toyota\")\n",
        "\n",
        "print(my_garage)"
      ],
      "metadata": {
        "colab": {
          "base_uri": "https://localhost:8080/"
        },
        "id": "7Vr5zWzTm3AV",
        "outputId": "c5889926-4cf2-4551-9122-9a7636aaa9fb"
      },
      "execution_count": null,
      "outputs": [
        {
          "output_type": "stream",
          "name": "stdout",
          "text": [
            "('Audi', 'BMW', 'vw', 'Toyota')\n"
          ]
        }
      ]
    },
    {
      "cell_type": "markdown",
      "source": [
        "**Tuple Length**\n",
        "- Used to know how many items are in a tuple\n",
        "- Use len() function\n",
        "- In the case below my tuple length would be: 5"
      ],
      "metadata": {
        "id": "MQ9MpYDHsm5M"
      }
    },
    {
      "cell_type": "code",
      "source": [
        "my_garage = (\"Audi\", \"BMW\", \"VW\", \"Toyota\", \"Mitsubishi\")\n",
        "\n",
        "print(len(my_garage))"
      ],
      "metadata": {
        "id": "Z3xjuqfIsgLF"
      },
      "execution_count": null,
      "outputs": []
    },
    {
      "cell_type": "markdown",
      "source": [
        "Create a tuple with one item\n",
        "- To create a tuple with only one item, you have to add a comma after the item, otherwise Python will not recognize it as a tuple."
      ],
      "metadata": {
        "id": "wdMQXjhmtHYr"
      }
    },
    {
      "cell_type": "code",
      "source": [
        "# Wrong\n",
        "my_garage = (\"Audi\")\n",
        "print(my_garage)\n",
        "\n",
        "# Right\n",
        "my_garage = (\"Audi\",)\n",
        "print(my_garage)"
      ],
      "metadata": {
        "id": "_T-dAwoZtIXk"
      },
      "execution_count": null,
      "outputs": []
    },
    {
      "cell_type": "markdown",
      "source": [
        "**Tuples & Other Datatypes**\n",
        "- They can have items of any datatype even tuples to form what we call tuples within tuples\n",
        "- Example using string, integer or boolean datatypes."
      ],
      "metadata": {
        "id": "lJFVoqT7tuOs"
      }
    },
    {
      "cell_type": "code",
      "source": [
        "my_garage = (\"Audi\", 1, True)\n",
        "\n",
        "print(my_garage)"
      ],
      "metadata": {
        "id": "3u31nsPIt83X"
      },
      "execution_count": null,
      "outputs": []
    },
    {
      "cell_type": "markdown",
      "source": [
        "**DAY 8**\n",
        "We are set to cover another datatype.\n",
        "\n",
        "🚀Sets\n",
        "Sets\n",
        "- Used to store multiple items in a single variable.\n",
        "- It is unordered, unchangeable/ immutable and unindexed\n",
        "- They are written with curly brackets"
      ],
      "metadata": {
        "id": "auGL5jw3uIQk"
      }
    },
    {
      "cell_type": "code",
      "source": [
        "my_garage = {\"Audi\", \"BMW\", \"VW\", \"Toyota\"}\n",
        "\n",
        "print(my_garage)"
      ],
      "metadata": {
        "id": "wacD18hEuYtM"
      },
      "execution_count": null,
      "outputs": []
    },
    {
      "cell_type": "markdown",
      "source": [
        "**Definitions:**\n",
        "\n",
        "*   Unordered - means that the item do not  have a defined order\n",
        "You cannot be sure which order the items will appear.\n",
        "*   Unchangeable - We cannot change the items after the set has been created.\n",
        "*   Duplicates are ignored - cannot have items with the same value.\n",
        "\n",
        "\n",
        "\n"
      ],
      "metadata": {
        "id": "DFX02AH5uicu"
      }
    },
    {
      "cell_type": "code",
      "source": [
        "# duplicates are not printed\n",
        "\n",
        "my_garage = {\"Audi\", \"BMW\", \"VW\", \"Toyota\", \"Audi\"}\n",
        "\n",
        "print(my_garage)"
      ],
      "metadata": {
        "id": "huvrejIZudVS"
      },
      "execution_count": null,
      "outputs": []
    },
    {
      "cell_type": "markdown",
      "source": [
        "Note:\n",
        "1.  The values True and 1 are considered the same value in sets, and are treated as duplicates\n",
        "\n",
        "2. The values False and 0 are considered the same value in sets, and are treated as duplicates\n",
        "\n",
        "Example:"
      ],
      "metadata": {
        "id": "qFomAiMwvPXJ"
      }
    },
    {
      "cell_type": "code",
      "source": [
        "my_garage = {\"Audi\", \"BMW\", \"VW\", \"Toyota\", True, 1, 0, False}\n",
        "\n",
        "print(my_garage)"
      ],
      "metadata": {
        "id": "hW7gYMRFvQio"
      },
      "execution_count": null,
      "outputs": []
    },
    {
      "cell_type": "markdown",
      "source": [
        "Length of a Set\n",
        "- Use the len() function in a similar way that we have seen in the past datatypes\n",
        "\n",
        "1. Sets Items can be of any datatype\n",
        "- Also similar to how we have applied on previous code.\n",
        "- The difference is only the curly brackets.\n",
        "\n",
        "2. A set can  contain different datatypes"
      ],
      "metadata": {
        "id": "u_lL65QAvWZx"
      }
    },
    {
      "cell_type": "code",
      "source": [
        "#Sets Items can be of any datatype\n",
        "my_garage = {\"Audi\", 1, True}\n",
        "\n",
        "print(my_garage)"
      ],
      "metadata": {
        "id": "DIwuElFQvXY6"
      },
      "execution_count": null,
      "outputs": []
    },
    {
      "cell_type": "markdown",
      "source": [
        "\n",
        "**Create a Github Account if you don't have one yet**\n",
        "\n",
        "It's important in housing our code, portfolio platform as well as a collaborative platform among many other use cases.\n",
        "\n",
        "![GVh2CDiX0AEK2VM.jfif](data:image/jpeg;base64,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)"
      ],
      "metadata": {
        "id": "9-f-6w7Yvtdi"
      }
    },
    {
      "cell_type": "markdown",
      "source": [
        "**DAY 9** <br>\n",
        "\n",
        "**Dictionaries** <br>\n",
        "Definition: is a data structure that stores the value in key: value pairs.\n",
        "- A dictionary is a collection which is ordered*, changeable and do not allow duplicates.\n",
        "-  Dictionaries are written with curly brackets{}, and have keys and values.\n",
        "\n",
        "For Example👇"
      ],
      "metadata": {
        "id": "7aczEqxTwRM8"
      }
    },
    {
      "cell_type": "code",
      "source": [
        "my_garage = {\"name\":\"Audi\",\n",
        "             \"model\": \"Q3\",\n",
        "             \"year\": 2020}\n",
        "\n",
        "print(my_garage)"
      ],
      "metadata": {
        "id": "V9tg8tKDwPZq"
      },
      "execution_count": null,
      "outputs": []
    },
    {
      "cell_type": "markdown",
      "source": [
        "In the code above,,\n",
        "An example in the dictionary of Key is \"model\" while the Value is \"Q3\".\n",
        "\n",
        "**Dictionaries are:**<br>\n",
        "Ordered: means that the items have a defined order and that order will not change.\n",
        "\n",
        "Changeable: We can change, add or remove items after the dictionary has been created.\n",
        "\n",
        "Duplicates are not allowed:  They cannot have items with the same key."
      ],
      "metadata": {
        "id": "v9B90ch-xcWV"
      }
    },
    {
      "cell_type": "code",
      "source": [
        "#duplicates not allowed example\n",
        "my_garage = {\"name\":\"Audi\",\n",
        "             \"model\": \"Q3\",\n",
        "             \"year\": 2020,\n",
        "             \"year\": 2022}\n",
        "\n",
        "print(my_garage)\n",
        "\n",
        "#You will get an error"
      ],
      "metadata": {
        "id": "TQ--P1zLxtJQ"
      },
      "execution_count": null,
      "outputs": []
    },
    {
      "cell_type": "markdown",
      "source": [
        "Check for length\n",
        "- Used to determine how many items a dictionary has.\n",
        "- We use the len() function\n",
        "- Implementation is similar to the other dtypes.\n",
        "Example code:👉`print(len(my_garage))`"
      ],
      "metadata": {
        "id": "LWujxKpLx5M3"
      }
    },
    {
      "cell_type": "markdown",
      "source": [
        "\n",
        "Dictionary Items  Data Types\n",
        "- The values in dictionary items can be of any data type.\n",
        "- They can contain a string, int, boolean and list data types.\n",
        "\n"
      ],
      "metadata": {
        "id": "F-k-dyXix9OJ"
      }
    },
    {
      "cell_type": "code",
      "source": [
        "\n",
        "\n",
        "my_garage = {\"name\":\"Audi\",\n",
        "             \"model\": \"Q3\",\n",
        "             \"brand_new\" : False,\n",
        "             \"year\": 2020,\n",
        "             \"colors\": [\"green\", \"blue\", \"black\"]}\n",
        "\n",
        "print(my_garage)"
      ],
      "metadata": {
        "id": "WnnOAu2ux8aT"
      },
      "execution_count": null,
      "outputs": []
    },
    {
      "cell_type": "markdown",
      "source": [
        "**DAY 10**\n",
        "\n",
        "Access, Change , Add, Remove List Items\n",
        "\n"
      ],
      "metadata": {
        "id": "tdjxrKRTyi5N"
      }
    },
    {
      "cell_type": "markdown",
      "source": [
        "**Access Items**\n",
        "List items are indexed and you can access them by referring to its index number👇\n",
        "*Note: The first item in programming is usually index 0. Applies here as well.*"
      ],
      "metadata": {
        "id": "kQRoa4FpzEM3"
      }
    },
    {
      "cell_type": "code",
      "source": [
        "my_garage = [\"Audi\", \"BMW\", \"Toyota\"]\n",
        "\n",
        "print(my_garage[1])"
      ],
      "metadata": {
        "id": "xGELXh9TzJqM"
      },
      "execution_count": null,
      "outputs": []
    },
    {
      "cell_type": "markdown",
      "source": [
        "**Negative indexing** <BR>\n",
        "This means the count starts from the end.\n",
        "e.g -1 refers to the last item, -2 refers to the second last item and such."
      ],
      "metadata": {
        "id": "hCmkqljcztlI"
      }
    },
    {
      "cell_type": "code",
      "source": [
        "my_garage = [\"Audi\", \"BMW\", \"Toyota\"]\n",
        "\n",
        "print(my_garage[-1])"
      ],
      "metadata": {
        "id": "DvSGfiyoztOq"
      },
      "execution_count": null,
      "outputs": []
    },
    {
      "cell_type": "markdown",
      "source": [
        "**Range of indexes**\n",
        "1. Specifying in a list, at what index to start and end in a list.\n",
        "For example you would want to list the second to the 5th item in a list👇"
      ],
      "metadata": {
        "id": "NPQ5M2N0z4Fx"
      }
    },
    {
      "cell_type": "code",
      "source": [
        "# list second, third, fourth and fifth item in a list\n",
        "\n",
        "my_garage = [\"Audi\", \"BMW\", \"Toyota\", \"Chevy\", \"VW\", \"Ford\"]\n",
        "\n",
        "print(my_garage[1:5])\n"
      ],
      "metadata": {
        "id": "Ha1SD8LEz3fi"
      },
      "execution_count": null,
      "outputs": []
    },
    {
      "cell_type": "markdown",
      "source": [
        "2. By leaving out the start value, it starts at the default first item or index 0."
      ],
      "metadata": {
        "id": "mKw8JaFp2DcJ"
      }
    },
    {
      "cell_type": "code",
      "source": [
        "my_garage = [\"Audi\", \"BMW\", \"Toyota\", \"Chevy\", \"VW\", \"Ford\"]\n",
        "\n",
        "print(my_garage[:4])"
      ],
      "metadata": {
        "id": "tbVzDIGa2Ego"
      },
      "execution_count": null,
      "outputs": []
    },
    {
      "cell_type": "markdown",
      "source": [
        "3. By leaving out the end value, the range will go on to end the list."
      ],
      "metadata": {
        "id": "W3yf78NW2Rwj"
      }
    },
    {
      "cell_type": "code",
      "source": [
        "my_garage = [\"Audi\", \"BMW\", \"Toyota\", \"Chevy\", \"VW\", \"Ford\"]\n",
        "\n",
        "print(my_garage[2:])"
      ],
      "metadata": {
        "id": "88kI3b-D2Vwr"
      },
      "execution_count": null,
      "outputs": []
    },
    {
      "cell_type": "markdown",
      "source": [
        "Check if Item Exists\n",
        "Use the \"in\" keyword\n",
        "Remember: Python is English-like as seen here👇"
      ],
      "metadata": {
        "id": "yqwaYCKr2fRz"
      }
    },
    {
      "cell_type": "code",
      "source": [
        "my_garage = [\"Audi\", \"BMW\", \"Toyota\", \"Chevy\", \"VW\", \"Ford\"]\n",
        "\n",
        "if \"Toyota\" in my_garage:\n",
        "  print(\"Yes, 'Toyota' is in the list\")"
      ],
      "metadata": {
        "id": "Czh4MeS32gbe"
      },
      "execution_count": null,
      "outputs": []
    },
    {
      "cell_type": "markdown",
      "source": [
        "**Change List Items**\n",
        "\n",
        "To change/ replace the value of an item, you will need to refer to its index number."
      ],
      "metadata": {
        "id": "am95u9Kr2lG2"
      }
    },
    {
      "cell_type": "code",
      "source": [
        "my_garage = [\"Audi\", \"BMW\", \"Toyota\", \"Chevy\", \"VW\", \"Ford\"]\n",
        "\n",
        "my_garage[1] = \"Tesla\"\n",
        "\n",
        "print(my_garage)"
      ],
      "metadata": {
        "id": "KXejKtm32vTN"
      },
      "execution_count": null,
      "outputs": []
    },
    {
      "cell_type": "markdown",
      "source": [
        "Note: When the range is 1:3 it means it refers to index 1 and index 2.\n",
        "To change the value of items within a specific range, create a list with the new values, and refer to the range of index numbers where you want to insert the new values."
      ],
      "metadata": {
        "id": "KjqFPQK726FE"
      }
    },
    {
      "cell_type": "code",
      "source": [
        "my_garage = [\"Audi\", \"BMW\", \"Toyota\", \"Chevy\", \"VW\", \"Ford\"]\n",
        "\n",
        "my_garage[1:3] = [\"Tesla\", \"Honda\"]\n",
        "\n",
        "print(my_garage)"
      ],
      "metadata": {
        "id": "FSZL5evC27J3"
      },
      "execution_count": null,
      "outputs": []
    },
    {
      "cell_type": "markdown",
      "source": [
        "What happens when you put more items in your incoming list items than the range specified?\n",
        "Try out👨‍💻👇\n",
        "\n",
        "*The number of list items increases"
      ],
      "metadata": {
        "id": "hdDHtSbq3BSa"
      }
    },
    {
      "cell_type": "code",
      "source": [
        "my_garage = [\"Audi\", \"BMW\", \"Toyota\", \"Chevy\", \"VW\", \"Ford\"]\n",
        "\n",
        "my_garage[1:3] = [\"Tesla\", \"Honda\", \"Nissan\"]\n",
        "\n",
        "print(my_garage)"
      ],
      "metadata": {
        "id": "EZN85DlO3CCj"
      },
      "execution_count": null,
      "outputs": []
    },
    {
      "cell_type": "markdown",
      "source": [
        "If you insert less items than the specified range.\n",
        "The new item will be inserted where specified while rest will move accordingly.\n",
        "\n",
        "For example:"
      ],
      "metadata": {
        "id": "XkCXNoha3IIp"
      }
    },
    {
      "cell_type": "code",
      "source": [
        "my_garage = [\"Audi\", \"BMW\", \"Toyota\", \"Chevy\", \"VW\", \"Ford\"]\n",
        "\n",
        "my_garage[1:3] = [\"Tesla\"]\n",
        "\n",
        "print(my_garage)"
      ],
      "metadata": {
        "id": "B2CUuR8M3I53"
      },
      "execution_count": null,
      "outputs": []
    },
    {
      "cell_type": "markdown",
      "source": [
        "Insert() method\n",
        "- Used to insert a new list item, without replacing any of the existing value unlike the ones above\n",
        "For Example: Insert \"Bugatti\" and the fourth item."
      ],
      "metadata": {
        "id": "nce52fZg3PtM"
      }
    },
    {
      "cell_type": "code",
      "source": [
        "my_garage = [\"Audi\", \"BMW\", \"Toyota\", \"Chevy\", \"VW\", \"Ford\"]\n",
        "\n",
        "my_garage.insert(3, \"Bugatti\")\n",
        "\n",
        "print(my_garage)"
      ],
      "metadata": {
        "id": "R00axAl93QhX"
      },
      "execution_count": null,
      "outputs": []
    },
    {
      "cell_type": "markdown",
      "source": [
        "**DAY 11**\n",
        "\n",
        "append() method\n",
        "Since we already discussed insert() on the post let's dive direct to append() method.\n",
        "\n",
        "The difference between this two is that insert() enables you to add an item to a specified index while append() adds an item to the list as the last item.\n",
        "\n",
        "Try out👇"
      ],
      "metadata": {
        "id": "yVEeR7yz3WHy"
      }
    },
    {
      "cell_type": "code",
      "source": [
        "# Append() method\n",
        "\n",
        "my_garage = [\"Audi\", \"BMW\", \"Toyota\", \"Chevy\", \"VW\", \"Ford\"]\n",
        "\n",
        "my_garage.append(\"Bugatti\")\n",
        "\n",
        "print(my_garage)"
      ],
      "metadata": {
        "id": "Ayy7gtXi3i2e"
      },
      "execution_count": null,
      "outputs": []
    },
    {
      "cell_type": "markdown",
      "source": [
        "extend() Method\n",
        "- Used to add a list to another list\n",
        "- the list items will be added at the end of my_garage list"
      ],
      "metadata": {
        "id": "DumxXGvT3sjE"
      }
    },
    {
      "cell_type": "code",
      "source": [
        "my_garage = [\"Audi\", \"BMW\", \"Toyota\", \"Chevy\", \"VW\", \"Ford\"]\n",
        "\n",
        "my_cars = [\"Tesla\", \"Honda\", \"Nissan\"]\n",
        "\n",
        "my_garage.extend(my_cars)\n",
        "\n",
        "print(my_garage)"
      ],
      "metadata": {
        "id": "HN5jFrMU32al"
      },
      "execution_count": null,
      "outputs": []
    },
    {
      "cell_type": "markdown",
      "source": [
        "You can add elements like sets, tuples and dictionaries to lists.\n",
        "Lets Look at examples;\n",
        "*Adding sets is done similar to tuples except in place of curved brackets we have curly braces.\n",
        "- For dictionaries it's a bit different"
      ],
      "metadata": {
        "id": "-v-yiR9V367z"
      }
    },
    {
      "cell_type": "code",
      "source": [
        "# extending dictionaries into a list\n",
        "# 1. Create an empty list\n",
        "my_garage = []\n",
        "# 2. Create a dictionary to add to the list\n",
        "\n",
        "my_garage1 = {\n",
        "    \"name\":\"Audi\",\n",
        "    \"model\": \"Q3\",\n",
        "    \"year\": 2020\n",
        "}\n",
        "my_garage.extend(my_garage1)\n",
        "#You can end it here and print. You can as well have more than one dictionary in a list:\n",
        "print(my_garage)\n",
        "# Create another dictionary\n",
        "my_garage2 = {\n",
        "    \"name\":\"Tesla\",\n",
        "    \"model\": \"S\",\n",
        "    \"year\": 2022\n",
        "}\n",
        "my_garage.extend(my_garage2)\n",
        "print(my_garage)"
      ],
      "metadata": {
        "id": "b4PfZeLV37rM"
      },
      "execution_count": null,
      "outputs": []
    },
    {
      "cell_type": "markdown",
      "source": [
        "Lets now look at removing list items\n",
        "1. remove() method\n",
        "- Removes a specified item\n",
        "*If we have two occurrences of the item. It only removes the first one."
      ],
      "metadata": {
        "id": "WF23gSkU4ydB"
      }
    },
    {
      "cell_type": "code",
      "source": [
        "my_garage = [\"Audi\", \"BMW\", \"Toyota\", \"Chevy\", \"VW\", \"Ford\"]\n",
        "\n",
        "my_garage.remove(\"Toyota\")\n",
        "\n",
        "print(my_garage)"
      ],
      "metadata": {
        "id": "9v0Sh_xV41Ku"
      },
      "execution_count": null,
      "outputs": []
    },
    {
      "cell_type": "markdown",
      "source": [
        "2. pop() method\n",
        "- Remove a specified index\n",
        "* If you do not specify the index, the pop() method removes the last item."
      ],
      "metadata": {
        "id": "W59b9SyN45f2"
      }
    },
    {
      "cell_type": "code",
      "source": [
        "my_garage = [\"Audi\", \"BMW\", \"Toyota\", \"Chevy\", \"VW\", \"Ford\"]\n",
        "\n",
        "my_garage.pop(1)\n",
        "\n",
        "print(my_garage)"
      ],
      "metadata": {
        "id": "-oZW3k4X49dP"
      },
      "execution_count": null,
      "outputs": []
    },
    {
      "cell_type": "markdown",
      "source": [
        "\n",
        "3. del() method\n",
        "- removes a specified index : works the same as pop()\n",
        "- can be used to delete list completely."
      ],
      "metadata": {
        "id": "xCgvrWHp5DkB"
      }
    },
    {
      "cell_type": "code",
      "source": [
        "my_garage = [\"Audi\", \"BMW\", \"Toyota\", \"Chevy\", \"VW\", \"Ford\"]\n",
        "\n",
        "del my_garage[0]"
      ],
      "metadata": {
        "id": "_97HKbJ85DNF"
      },
      "execution_count": null,
      "outputs": []
    },
    {
      "cell_type": "code",
      "source": [
        "# deleting the list completely\n",
        "my_garage = [\"Audi\", \"BMW\", \"Toyota\", \"Chevy\", \"VW\", \"Ford\"]\n",
        "\n",
        "del my_garage"
      ],
      "metadata": {
        "id": "zNs7U5Kj5Ku_"
      },
      "execution_count": null,
      "outputs": []
    },
    {
      "cell_type": "markdown",
      "source": [
        "4. clear() method\n",
        "- This empties items in a list"
      ],
      "metadata": {
        "id": "V4zU1EoW5N0o"
      }
    },
    {
      "cell_type": "code",
      "source": [
        "my_garage = [\"Audi\", \"BMW\", \"Toyota\", \"Chevy\", \"VW\", \"Ford\"]\n",
        "\n",
        "my_garage.clear()\n",
        "\n",
        "print(my_garage)"
      ],
      "metadata": {
        "id": "6utDP-2f5QRE"
      },
      "execution_count": null,
      "outputs": []
    },
    {
      "cell_type": "markdown",
      "source": [
        "**Importance of Lists in AI Development**\n",
        "<BR>\n",
        "Python lists are a fundamental data structure that plays a crucial role in many aspects of artificial intelligence (AI) development. They are versatile and easy to use, making them a popular choice for handling data, managing workflows, and implementing algorithms. Here’s how Python lists are used in AI:\n",
        "\n",
        "### **1. Storing and Managing Data**\n",
        "   - **Data Collection:** In AI, lists are often used to store datasets, which may include numerical data, text, images, or any other form of input that needs to be processed. For example, a list can hold a sequence of images or a series of text documents for natural language processing tasks.\n",
        "   - **Data Batching:** When training machine learning models, data is often divided into batches to improve computational efficiency. Lists can be used to create and manage these batches of data.\n",
        "\n",
        "### **2. Implementing Algorithms**\n",
        "   - **Search and Sort Algorithms:** Lists are used to implement basic algorithms like search (e.g., linear search, binary search) and sorting (e.g., quicksort, mergesort), which are foundational in AI for data preprocessing and feature engineering.\n",
        "   - **Graph Algorithms:** In AI, particularly in fields like network analysis or game development, graphs are often represented using adjacency lists. Python lists are used to store the neighbors of each node, making it easy to traverse and manipulate the graph.\n",
        "\n",
        "### **3. Neural Network Operations**\n",
        "   - **Layer Management:** Lists can be used to manage layers in a neural network. Each layer’s weights, biases, and activation functions can be stored in lists, allowing easy iteration and modification during forward and backward passes.\n",
        "   - **Storing Weights and Biases:** During the training of neural networks, lists can hold the weights and biases of each neuron. These lists are updated during backpropagation.\n",
        "\n",
        "### **4. Handling Sequences in Natural Language Processing (NLP)**\n",
        "   - **Token Sequences:** In NLP, sentences are often tokenized into words or characters, which are then stored in lists. These sequences of tokens are fed into models like Recurrent Neural Networks (RNNs) or Transformers for processing.\n",
        "   - **Language Models:** Lists are used to manage sequences of words or sentences in tasks like language modeling, text generation, and machine translation.\n",
        "\n",
        "### **5. Reinforcement Learning**\n",
        "   - **Experience Replay Buffers:** In reinforcement learning, an agent’s past experiences (states, actions, rewards, and next states) are stored in a list called an experience replay buffer. This buffer is used to sample experiences for training the agent, helping to break correlation between consecutive samples and improve learning efficiency.\n",
        "   - **Action and State Storage:** Lists can store the sequence of actions taken by an agent and the corresponding states observed in the environment, which are critical for training and policy evaluation.\n",
        "\n",
        "### **6. Handling Outputs and Predictions**\n",
        "   - **Storing Model Predictions:** After a model makes predictions, these predictions can be stored in lists for further analysis, comparison, or post-processing.\n",
        "   - **Output Formatting:** In tasks like image classification or object detection, the model’s outputs (e.g., class labels, bounding box coordinates) are often stored in lists for easy access and manipulation.\n",
        "\n",
        "### **7. Data Augmentation and Preprocessing**\n",
        "   - **Applying Transformations:** Lists can store different data augmentation techniques (e.g., flipping, rotation, scaling) that are applied to images or other input data during preprocessing. Iterating through these lists ensures that all augmentations are applied systematically.\n",
        "\n",
        "### **8. Handling Multiple Models or Experiments**\n",
        "   - **Model Ensembling:** Lists can be used to store multiple models in an ensemble, where each model’s predictions are combined to improve overall accuracy.\n",
        "   - **Experiment Tracking:** During experimentation, lists can track different models, hyperparameters, or evaluation metrics, making it easier to compare results and select the best-performing configuration.\n",
        "\n",
        "In summary, Python lists are an essential tool in AI, providing the flexibility and simplicity needed to manage data, implement algorithms, and organize various components of AI models and workflows. Their versatility makes them a go-to structure in many AI applications."
      ],
      "metadata": {
        "id": "kD72sYde5VVY"
      }
    },
    {
      "cell_type": "markdown",
      "source": [
        "**DAY 12**"
      ],
      "metadata": {
        "id": "DBgUVPjX5h2e"
      }
    }
  ]
}