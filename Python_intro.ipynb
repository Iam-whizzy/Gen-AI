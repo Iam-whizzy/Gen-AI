{
  "nbformat": 4,
  "nbformat_minor": 0,
  "metadata": {
    "colab": {
      "provenance": [],
      "authorship_tag": "ABX9TyMYMcHPhIBGN6AqclL3ZzpR",
      "include_colab_link": true
    },
    "kernelspec": {
      "name": "python3",
      "display_name": "Python 3"
    },
    "language_info": {
      "name": "python"
    }
  },
  "cells": [
    {
      "cell_type": "markdown",
      "metadata": {
        "id": "view-in-github",
        "colab_type": "text"
      },
      "source": [
        "<a href=\"https://colab.research.google.com/github/Iam-whizzy/Gen-AI/blob/main/Python_intro.ipynb\" target=\"_parent\"><img src=\"https://colab.research.google.com/assets/colab-badge.svg\" alt=\"Open In Colab\"/></a>"
      ]
    },
    {
      "cell_type": "code",
      "execution_count": null,
      "metadata": {
        "colab": {
          "base_uri": "https://localhost:8080/"
        },
        "id": "sW2fU2ryuQV1",
        "outputId": "cffc1c7e-5a65-496c-ba6a-58fb7b1ec033"
      },
      "outputs": [
        {
          "output_type": "stream",
          "name": "stdout",
          "text": [
            "Hello World\n"
          ]
        }
      ],
      "source": [
        "# DAY 5/100\n",
        "# Introduction to Python programming\n",
        "# Python was created in 1991\n",
        "# Easy to learn because of its a simple syntax similar to the English Langugae\n",
        "# Can be used for various purposes including web development, cybersecurity, data science, artificial intelligence, game development, and more.\n",
        "# Let's write our first python line of code\n",
        "\n",
        "print(\"Hello World\")\n"
      ]
    },
    {
      "cell_type": "code",
      "source": [
        "# PYTHON SYNTAX\n",
        "# 1. Python Comments\n",
        "# These are like notes to your code. You code while writing notes about your code so that you or someoneelse can understand what you did.\n",
        "# It is also important when someone else will be reviewing your code or incase you will be working in a team.\n",
        "# Or let's say you code an app for someone and sometime later because of some reason you are not the one maintaining the code. The comments are for that someone.\n",
        "# Comments are initialized using \"#\" like these green text we have been writing.\n"
      ],
      "metadata": {
        "collapsed": true,
        "id": "yUye7yQqyBE9"
      },
      "execution_count": null,
      "outputs": []
    },
    {
      "cell_type": "code",
      "source": [
        "# 2. Python Indentation\n",
        "# For example in a code like the one below\n",
        "# Below if a > b: you can see an indentation before print\n",
        "# Indentation can cause your code to not run or in other terms throw an error\n",
        "\n",
        "a = 10\n",
        "b = 20\n",
        "if a > b:\n",
        "    print(\"a is greater than b\")\n",
        "else:\n",
        "    print(\"b is greater than a\")\n",
        "\n"
      ],
      "metadata": {
        "colab": {
          "base_uri": "https://localhost:8080/"
        },
        "id": "aS4Xj4fE34b1",
        "outputId": "30b2aca8-2b72-4fb2-9ade-b1829b293a6b"
      },
      "execution_count": null,
      "outputs": [
        {
          "output_type": "stream",
          "name": "stdout",
          "text": [
            "b is greater than a\n"
          ]
        }
      ]
    },
    {
      "cell_type": "code",
      "source": [
        "# 3. Python Variables\n",
        "# Variables are containers for storing data values.\n",
        "# A variable is created the moment you first assign a value to it.\n",
        "# For example in the code above a is the variable while 10 is the value of variable a (Refer to code right above)"
      ],
      "metadata": {
        "id": "y4hplQTw1mzd"
      },
      "execution_count": null,
      "outputs": []
    },
    {
      "cell_type": "code",
      "source": [
        "# 3.1 Variable Names\n",
        "# Rules for Python variables:\n",
        "# 1. A variable name must start with a letter or the underscore character\n",
        "# 2. A variable name cannot start with a number\n",
        "# 3 A variable name can only contain alpha-numeric characters and underscores (A-z, 0-9, and _ )\n",
        "# Variable names are case-sensitive (age, Age and AGE are three different variables)\n",
        "# A variable name cannot be any of the Python keywords. To checkout keywords, visit: (https://www.w3schools.com/python/python_ref_keywords.asp).\n",
        "\n",
        "# Good Example\n",
        "myvar = \"John\"\n",
        "my_var = \"John\"\n",
        "_my_var = \"John\"\n",
        "myVar = \"John\"\n",
        "MYVAR = \"John\"\n",
        "myvar2 = \"John\"\n",
        "\n",
        "# Bad Example\n",
        "2myvar = \"John\"\n",
        "my-var = \"John\"\n",
        "my var = \"John\""
      ],
      "metadata": {
        "id": "bAe0ED5911dV"
      },
      "execution_count": null,
      "outputs": []
    },
    {
      "cell_type": "code",
      "source": [
        "# 3.2 Output Variables\n",
        "# The Python print() function is often used to output variables.\n",
        "# This is where your code is converted to something you can see on the screen\n",
        "# For example I will enter a variable name z and use the print() function to display the the value of z on the screen.\n",
        "\n",
        "z = 33\n",
        "print(z)\n"
      ],
      "metadata": {
        "colab": {
          "base_uri": "https://localhost:8080/"
        },
        "id": "7H3s6EUd3iOE",
        "outputId": "a8062594-33c1-4b27-c209-a7ce26874b87"
      },
      "execution_count": null,
      "outputs": [
        {
          "output_type": "stream",
          "name": "stdout",
          "text": [
            "33\n"
          ]
        }
      ]
    },
    {
      "cell_type": "code",
      "source": [
        "# 3.3 Multi Words Variable Names\n",
        "# There are several techniques you can use to make them more readable;\n",
        "\n",
        "# 1. Camel Case\n",
        "# Each word, except the first, starts with a capital letter:\n",
        "myFirstName = \"Eric\"\n",
        "\n",
        "# 3. Pascal Case\n",
        "# Each word starts with a capital letter:\n",
        "MyFirstName = \"Eric\"\n",
        "\n",
        "# 4. Snake Case\n",
        "# Each word is separated by an underscore character:\n",
        "my_first_name = \"Eric\""
      ],
      "metadata": {
        "id": "KVaLFg-b9tgV"
      },
      "execution_count": null,
      "outputs": []
    },
    {
      "cell_type": "code",
      "source": [
        "a = 5\n",
        "\n",
        "print(type (a))\n"
      ],
      "metadata": {
        "colab": {
          "base_uri": "https://localhost:8080/"
        },
        "id": "9VZ6Fx_KU9It",
        "outputId": "f84a6207-ead9-43f9-9526-21182b5be117"
      },
      "execution_count": null,
      "outputs": [
        {
          "output_type": "stream",
          "name": "stdout",
          "text": [
            "<class 'int'>\n"
          ]
        }
      ]
    },
    {
      "cell_type": "code",
      "source": [
        "# Day 6/100\n",
        "\n",
        "# This is python basics continuation....\n",
        "# Keep the energy. Sometimes it might be a busy and hectic day but our coding days have to be there. People used to go to war."
      ],
      "metadata": {
        "id": "SFucmTCDzb9l"
      },
      "execution_count": null,
      "outputs": []
    },
    {
      "cell_type": "code",
      "source": [
        "# DATATYPES\n",
        "\n",
        "# Today we tackle an animal known as Data Types.\n",
        "# You see the way we have proteins, energy-giving foods & vitamens for food?\n",
        "\n",
        "# 😃As in types of data. Namely:\n",
        "# 👉str, int, float,  list, tuple, dict, set, bool etc.\n",
        "\n",
        "# These are the datatypes we'll be using for now.\n",
        "\n",
        "#Classified further into:\n",
        "# 1. Numbers: int, float\n",
        "# 2. Sequence: str, list, tuple,\n",
        "# 3. Boolean: bool(true or false)\n",
        "# 4. Set: set\n",
        "# 5. Dictionary: dict"
      ],
      "metadata": {
        "id": "Xnp81uGlz25k"
      },
      "execution_count": null,
      "outputs": []
    },
    {
      "cell_type": "code",
      "source": [
        "# 1. Integers (int)\n",
        "# It contains positive or negative whole numbers (without fractions or decimals). No limit to its length\n",
        "\n",
        "# Example: a = 5 here \"a\" is of the data type integer.\n",
        "\n",
        "# You can see and write the code below to confirm the data type.\n",
        "\n",
        "a = 5\n",
        "print(type(a))"
      ],
      "metadata": {
        "colab": {
          "base_uri": "https://localhost:8080/"
        },
        "id": "K7kCYhsF0zd8",
        "outputId": "3f3790ca-fb08-437c-d2c3-74ef94812aed"
      },
      "execution_count": 4,
      "outputs": [
        {
          "output_type": "stream",
          "name": "stdout",
          "text": [
            "<class 'int'>\n"
          ]
        }
      ]
    },
    {
      "cell_type": "code",
      "source": [
        "# 2. Float (float)\n",
        "# - It is specified by a decimal point\n",
        "# - e or E can be used to specify scientific notation\n",
        "# You can test type float by replacing value in \"a\" variable in your code cell with a decimal value\n",
        "\n",
        "# Example: b = 5.5\n",
        "\n",
        "b = 5.5\n",
        "print (type(b))"
      ],
      "metadata": {
        "colab": {
          "base_uri": "https://localhost:8080/"
        },
        "id": "qKjLxuMD08sr",
        "outputId": "d039b919-3914-4a3d-b0cd-681075a37de3"
      },
      "execution_count": 5,
      "outputs": [
        {
          "output_type": "stream",
          "name": "stdout",
          "text": [
            "<class 'float'>\n"
          ]
        }
      ]
    },
    {
      "cell_type": "code",
      "source": [
        "# 3. String (str)\n",
        "# -  A string is a collection of one or more characters put in a single quote, double quote or triple quote.\n",
        "\n",
        "# Example:  c = \"Hakuna Matata\"\n",
        "\n",
        "c = \"Hakuna Matata\"\n",
        "print(type(c))"
      ],
      "metadata": {
        "colab": {
          "base_uri": "https://localhost:8080/"
        },
        "id": "va_WrAC61NoE",
        "outputId": "7b73f025-13b8-4cef-e2a9-973969941943"
      },
      "execution_count": 6,
      "outputs": [
        {
          "output_type": "stream",
          "name": "stdout",
          "text": [
            "<class 'str'>\n"
          ]
        }
      ]
    },
    {
      "cell_type": "code",
      "source": [
        "# 4. List (list)\n",
        "# - Are used to store multiple items in a single variable\n",
        "# - Are created using square brackets\n",
        "# - Write code below and run to print your list on screen\n",
        "# -Lists are ordered, changeable and allow duplicate values\n",
        "# -  The first item has Index zero - [0], the second item [1]\n",
        "\n",
        "my_garage = [\"Volvo\", \"BMW\", \"VW\", \"Audi\"]\n",
        "\n",
        "print(my_garage)"
      ],
      "metadata": {
        "colab": {
          "base_uri": "https://localhost:8080/"
        },
        "id": "PecjOcap1W7r",
        "outputId": "d99b0d2b-75e3-497d-f2b8-78ec0e55d3de"
      },
      "execution_count": 7,
      "outputs": [
        {
          "output_type": "stream",
          "name": "stdout",
          "text": [
            "['Volvo', 'BMW', 'VW', 'Audi']\n"
          ]
        }
      ]
    },
    {
      "cell_type": "code",
      "source": [
        "# Important Definitions\n",
        "# Ordered - it means that the items have predefined order and the order will not change\n",
        "# Changeable - we can add or remove items even after list has been created\n",
        "# Allow duplicates - Since lists are indexed, they can have items with the same value\n",
        "\n",
        "# For Example👇\n",
        "\n",
        "# Testing duplicate values to check if \"Allow duplicates\" is true\n",
        "\n",
        "my_garage = [\"Volvo\", \"BMW\", \"VW\", \"Audi\", \"Volvo\"]\n",
        "\n",
        "print(my_garage)"
      ],
      "metadata": {
        "colab": {
          "base_uri": "https://localhost:8080/"
        },
        "id": "YG7P1Wdc1uAU",
        "outputId": "6419326c-0fd6-4ebb-ed50-f3fe3e2e7abd"
      },
      "execution_count": 8,
      "outputs": [
        {
          "output_type": "stream",
          "name": "stdout",
          "text": [
            "['Volvo', 'BMW', 'VW', 'Audi', 'Volvo']\n"
          ]
        }
      ]
    },
    {
      "cell_type": "code",
      "source": [
        "# List length - number of items in a list\n",
        "# We use the len() function to determine number of items in a list\n",
        "\n",
        "print(len(my_garage))"
      ],
      "metadata": {
        "colab": {
          "base_uri": "https://localhost:8080/"
        },
        "id": "_kKiyE9n2BZ0",
        "outputId": "fc0976eb-dec0-42c0-e22c-f2348449a7b1"
      },
      "execution_count": 9,
      "outputs": [
        {
          "output_type": "stream",
          "name": "stdout",
          "text": [
            "5\n"
          ]
        }
      ]
    },
    {
      "cell_type": "code",
      "source": [
        "# List items can contain other datatypes\n",
        "# They can have str, int, bool data types.\n",
        "# Example:\n",
        "\n",
        "# Assignment: Print each one of them (8 marks)\n",
        "\n",
        "my_garage = [\"Volvo\", \"BMW\", \"VW\", \"Audi\"]\n",
        "my_numbers = [1, 3, 5, 7, 9]\n",
        "my_bool = [True, False, False]\n",
        "\n",
        "print(my_garage)\n",
        "print(my_numbers)\n",
        "print(my_bool)\n",
        "\n",
        "# A list with different datatypes\n",
        "\n",
        "my_characters = [11, \"BMW\", True, 8.9]\n",
        "\n",
        "print(my_characters)\n",
        "\n"
      ],
      "metadata": {
        "colab": {
          "base_uri": "https://localhost:8080/"
        },
        "id": "PaVIjd6g2QvM",
        "outputId": "c415f348-52a6-4ef3-fbec-9e00354decc9"
      },
      "execution_count": 10,
      "outputs": [
        {
          "output_type": "stream",
          "name": "stdout",
          "text": [
            "['Volvo', 'BMW', 'VW', 'Audi']\n",
            "[1, 3, 5, 7, 9]\n",
            "[True, False, False]\n",
            "[11, 'BMW', True, 8.9]\n"
          ]
        }
      ]
    }
  ]
}