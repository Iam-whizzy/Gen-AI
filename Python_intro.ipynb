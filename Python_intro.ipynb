{
  "nbformat": 4,
  "nbformat_minor": 0,
  "metadata": {
    "colab": {
      "provenance": [],
      "authorship_tag": "ABX9TyMy22t5WazP/Sf8oZlD09Mn",
      "include_colab_link": true
    },
    "kernelspec": {
      "name": "python3",
      "display_name": "Python 3"
    },
    "language_info": {
      "name": "python"
    }
  },
  "cells": [
    {
      "cell_type": "markdown",
      "metadata": {
        "id": "view-in-github",
        "colab_type": "text"
      },
      "source": [
        "<a href=\"https://colab.research.google.com/github/Iam-whizzy/Gen-AI/blob/main/Python_intro.ipynb\" target=\"_parent\"><img src=\"https://colab.research.google.com/assets/colab-badge.svg\" alt=\"Open In Colab\"/></a>"
      ]
    },
    {
      "cell_type": "code",
      "execution_count": 4,
      "metadata": {
        "colab": {
          "base_uri": "https://localhost:8080/"
        },
        "id": "sW2fU2ryuQV1",
        "outputId": "cffc1c7e-5a65-496c-ba6a-58fb7b1ec033"
      },
      "outputs": [
        {
          "output_type": "stream",
          "name": "stdout",
          "text": [
            "Hello World\n"
          ]
        }
      ],
      "source": [
        "# Introduction to Python programming\n",
        "# Python was created in 1991\n",
        "# Easy to learn because of its a simple syntax similar to the English Langugae\n",
        "# Can be used for various purposes including web development, cybersecurity, data science, artificial intelligence, game development, and more.\n",
        "# Let's write our first python line of code\n",
        "\n",
        "print(\"Hello World\")\n"
      ]
    },
    {
      "cell_type": "code",
      "source": [
        "# PYTHON SYNTAX\n",
        "# 1. Python Comments\n",
        "# These are like notes to your code. You code while writing notes about your code so that you or someoneelse can understand what you did.\n",
        "# It is also important when someone else will be reviewing your code or incase you will be working in a team.\n",
        "# Or let's say you code an app for someone and sometime later because of some reason you are not the one maintaining the code. The comments are for that someone.\n",
        "# Comments are initialized using \"#\" like these green text we have been writing.\n"
      ],
      "metadata": {
        "collapsed": true,
        "id": "yUye7yQqyBE9"
      },
      "execution_count": null,
      "outputs": []
    },
    {
      "cell_type": "code",
      "source": [
        "# 2. Python Indentation\n",
        "# For example in a code like the one below\n",
        "# Below if a > b: you can see an indentation before print\n",
        "# Indentation can cause your code to not run or in other terms throw an error\n",
        "\n",
        "a = 10\n",
        "b = 20\n",
        "if a > b:\n",
        "    print(\"a is greater than b\")\n",
        "else:\n",
        "    print(\"b is greater than a\")\n",
        "\n"
      ],
      "metadata": {
        "colab": {
          "base_uri": "https://localhost:8080/"
        },
        "id": "aS4Xj4fE34b1",
        "outputId": "30b2aca8-2b72-4fb2-9ade-b1829b293a6b"
      },
      "execution_count": 5,
      "outputs": [
        {
          "output_type": "stream",
          "name": "stdout",
          "text": [
            "b is greater than a\n"
          ]
        }
      ]
    },
    {
      "cell_type": "code",
      "source": [
        "# 3. Python Variables\n",
        "# Variables are containers for storing data values.\n",
        "# A variable is created the moment you first assign a value to it.\n",
        "# For example in the code above a is the variable while 10 is the value of variable a (Refer to code right above)"
      ],
      "metadata": {
        "id": "y4hplQTw1mzd"
      },
      "execution_count": null,
      "outputs": []
    },
    {
      "cell_type": "code",
      "source": [
        "# 3.1 Variable Names\n",
        "# Rules for Python variables:\n",
        "# 1. A variable name must start with a letter or the underscore character\n",
        "# 2. A variable name cannot start with a number\n",
        "# 3 A variable name can only contain alpha-numeric characters and underscores (A-z, 0-9, and _ )\n",
        "# Variable names are case-sensitive (age, Age and AGE are three different variables)\n",
        "# A variable name cannot be any of the Python keywords. To checkout keywords, visit: (https://www.w3schools.com/python/python_ref_keywords.asp).\n",
        "\n",
        "# Good Example\n",
        "myvar = \"John\"\n",
        "my_var = \"John\"\n",
        "_my_var = \"John\"\n",
        "myVar = \"John\"\n",
        "MYVAR = \"John\"\n",
        "myvar2 = \"John\"\n",
        "\n",
        "# Bad Example\n",
        "2myvar = \"John\"\n",
        "my-var = \"John\"\n",
        "my var = \"John\""
      ],
      "metadata": {
        "id": "bAe0ED5911dV"
      },
      "execution_count": null,
      "outputs": []
    },
    {
      "cell_type": "code",
      "source": [
        "# 3.2 Output Variables\n",
        "# The Python print() function is often used to output variables.\n",
        "# This is where your code is converted to something you can see on the screen\n",
        "# For example I will enter a variable name z and use the print() function to display the the value of z on the screen.\n",
        "\n",
        "z = 33\n",
        "print(z)\n"
      ],
      "metadata": {
        "colab": {
          "base_uri": "https://localhost:8080/"
        },
        "id": "7H3s6EUd3iOE",
        "outputId": "a8062594-33c1-4b27-c209-a7ce26874b87"
      },
      "execution_count": 6,
      "outputs": [
        {
          "output_type": "stream",
          "name": "stdout",
          "text": [
            "33\n"
          ]
        }
      ]
    },
    {
      "cell_type": "code",
      "source": [
        "# 3.3 Multi Words Variable Names\n",
        "# There are several techniques you can use to make them more readable;\n",
        "\n",
        "# 1. Camel Case\n",
        "# Each word, except the first, starts with a capital letter:\n",
        "myFirstName = \"Eric\"\n",
        "\n",
        "# 3. Pascal Case\n",
        "# Each word starts with a capital letter:\n",
        "MyFirstName = \"Eric\"\n",
        "\n",
        "# 4. Snake Case\n",
        "# Each word is separated by an underscore character:\n",
        "my_first_name = \"Eric\""
      ],
      "metadata": {
        "id": "KVaLFg-b9tgV"
      },
      "execution_count": null,
      "outputs": []
    }
  ]
}