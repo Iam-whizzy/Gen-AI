{
  "nbformat": 4,
  "nbformat_minor": 0,
  "metadata": {
    "colab": {
      "provenance": [],
      "authorship_tag": "ABX9TyM3XngfsN6s2B27LW4tNRwP",
      "include_colab_link": true
    },
    "kernelspec": {
      "name": "python3",
      "display_name": "Python 3"
    },
    "language_info": {
      "name": "python"
    }
  },
  "cells": [
    {
      "cell_type": "markdown",
      "metadata": {
        "id": "view-in-github",
        "colab_type": "text"
      },
      "source": [
        "<a href=\"https://colab.research.google.com/github/Iam-whizzy/Gen-AI/blob/main/Python_intro.ipynb\" target=\"_parent\"><img src=\"https://colab.research.google.com/assets/colab-badge.svg\" alt=\"Open In Colab\"/></a>"
      ]
    },
    {
      "cell_type": "code",
      "execution_count": null,
      "metadata": {
        "colab": {
          "base_uri": "https://localhost:8080/"
        },
        "id": "sW2fU2ryuQV1",
        "outputId": "cffc1c7e-5a65-496c-ba6a-58fb7b1ec033"
      },
      "outputs": [
        {
          "output_type": "stream",
          "name": "stdout",
          "text": [
            "Hello World\n"
          ]
        }
      ],
      "source": [
        "# DAY 5/100\n",
        "# Introduction to Python programming\n",
        "# Python was created in 1991\n",
        "# Easy to learn because of its a simple syntax similar to the English Langugae\n",
        "# Can be used for various purposes including web development, cybersecurity, data science, artificial intelligence, game development, and more.\n",
        "# Let's write our first python line of code\n",
        "\n",
        "print(\"Hello World\")\n"
      ]
    },
    {
      "cell_type": "code",
      "source": [
        "# PYTHON SYNTAX\n",
        "# 1. Python Comments\n",
        "# These are like notes to your code. You code while writing notes about your code so that you or someoneelse can understand what you did.\n",
        "# It is also important when someone else will be reviewing your code or incase you will be working in a team.\n",
        "# Or let's say you code an app for someone and sometime later because of some reason you are not the one maintaining the code. The comments are for that someone.\n",
        "# Comments are initialized using \"#\" like these green text we have been writing.\n"
      ],
      "metadata": {
        "collapsed": true,
        "id": "yUye7yQqyBE9"
      },
      "execution_count": null,
      "outputs": []
    },
    {
      "cell_type": "code",
      "source": [
        "# 2. Python Indentation\n",
        "# For example in a code like the one below\n",
        "# Below if a > b: you can see an indentation before print\n",
        "# Indentation can cause your code to not run or in other terms throw an error\n",
        "\n",
        "a = 10\n",
        "b = 20\n",
        "if a > b:\n",
        "    print(\"a is greater than b\")\n",
        "else:\n",
        "    print(\"b is greater than a\")\n",
        "\n"
      ],
      "metadata": {
        "colab": {
          "base_uri": "https://localhost:8080/"
        },
        "id": "aS4Xj4fE34b1",
        "outputId": "30b2aca8-2b72-4fb2-9ade-b1829b293a6b"
      },
      "execution_count": null,
      "outputs": [
        {
          "output_type": "stream",
          "name": "stdout",
          "text": [
            "b is greater than a\n"
          ]
        }
      ]
    },
    {
      "cell_type": "code",
      "source": [
        "# 3. Python Variables\n",
        "# Variables are containers for storing data values.\n",
        "# A variable is created the moment you first assign a value to it.\n",
        "# For example in the code above a is the variable while 10 is the value of variable a (Refer to code right above)"
      ],
      "metadata": {
        "id": "y4hplQTw1mzd"
      },
      "execution_count": null,
      "outputs": []
    },
    {
      "cell_type": "code",
      "source": [
        "# 3.1 Variable Names\n",
        "# Rules for Python variables:\n",
        "# 1. A variable name must start with a letter or the underscore character\n",
        "# 2. A variable name cannot start with a number\n",
        "# 3 A variable name can only contain alpha-numeric characters and underscores (A-z, 0-9, and _ )\n",
        "# Variable names are case-sensitive (age, Age and AGE are three different variables)\n",
        "# A variable name cannot be any of the Python keywords. To checkout keywords, visit: (https://www.w3schools.com/python/python_ref_keywords.asp).\n",
        "\n",
        "# Good Example\n",
        "myvar = \"John\"\n",
        "my_var = \"John\"\n",
        "_my_var = \"John\"\n",
        "myVar = \"John\"\n",
        "MYVAR = \"John\"\n",
        "myvar2 = \"John\"\n",
        "\n",
        "# Bad Example\n",
        "2myvar = \"John\"\n",
        "my-var = \"John\"\n",
        "my var = \"John\""
      ],
      "metadata": {
        "id": "bAe0ED5911dV"
      },
      "execution_count": null,
      "outputs": []
    },
    {
      "cell_type": "code",
      "source": [
        "# 3.2 Output Variables\n",
        "# The Python print() function is often used to output variables.\n",
        "# This is where your code is converted to something you can see on the screen\n",
        "# For example I will enter a variable name z and use the print() function to display the the value of z on the screen.\n",
        "\n",
        "z = 33\n",
        "print(z)\n"
      ],
      "metadata": {
        "colab": {
          "base_uri": "https://localhost:8080/"
        },
        "id": "7H3s6EUd3iOE",
        "outputId": "a8062594-33c1-4b27-c209-a7ce26874b87"
      },
      "execution_count": null,
      "outputs": [
        {
          "output_type": "stream",
          "name": "stdout",
          "text": [
            "33\n"
          ]
        }
      ]
    },
    {
      "cell_type": "code",
      "source": [
        "# 3.3 Multi Words Variable Names\n",
        "# There are several techniques you can use to make them more readable;\n",
        "\n",
        "# 1. Camel Case\n",
        "# Each word, except the first, starts with a capital letter:\n",
        "myFirstName = \"Eric\"\n",
        "\n",
        "# 3. Pascal Case\n",
        "# Each word starts with a capital letter:\n",
        "MyFirstName = \"Eric\"\n",
        "\n",
        "# 4. Snake Case\n",
        "# Each word is separated by an underscore character:\n",
        "my_first_name = \"Eric\""
      ],
      "metadata": {
        "id": "KVaLFg-b9tgV"
      },
      "execution_count": null,
      "outputs": []
    },
    {
      "cell_type": "code",
      "source": [
        "a = 5\n",
        "\n",
        "print(type (a))\n"
      ],
      "metadata": {
        "colab": {
          "base_uri": "https://localhost:8080/"
        },
        "id": "9VZ6Fx_KU9It",
        "outputId": "f84a6207-ead9-43f9-9526-21182b5be117"
      },
      "execution_count": null,
      "outputs": [
        {
          "output_type": "stream",
          "name": "stdout",
          "text": [
            "<class 'int'>\n"
          ]
        }
      ]
    },
    {
      "cell_type": "code",
      "source": [
        "# Day 6/100\n",
        "\n",
        "# This is python basics continuation....\n",
        "# Keep the energy. Sometimes it might be a busy and hectic day but our coding days have to be there. People used to go to war."
      ],
      "metadata": {
        "id": "SFucmTCDzb9l"
      },
      "execution_count": null,
      "outputs": []
    },
    {
      "cell_type": "code",
      "source": [
        "# DATATYPES\n",
        "\n",
        "# Today we tackle an animal known as Data Types.\n",
        "# You see the way we have proteins, energy-giving foods & vitamens for food?\n",
        "\n",
        "# 😃As in types of data. Namely:\n",
        "# 👉str, int, float,  list, tuple, dict, set, bool etc.\n",
        "\n",
        "# These are the datatypes we'll be using for now.\n",
        "\n",
        "#Classified further into:\n",
        "# 1. Numbers: int, float\n",
        "# 2. Sequence: str, list, tuple,\n",
        "# 3. Boolean: bool(true or false)\n",
        "# 4. Set: set\n",
        "# 5. Dictionary: dict"
      ],
      "metadata": {
        "id": "Xnp81uGlz25k"
      },
      "execution_count": null,
      "outputs": []
    },
    {
      "cell_type": "code",
      "source": [
        "# 1. Integers (int)\n",
        "# It contains positive or negative whole numbers (without fractions or decimals). No limit to its length\n",
        "\n",
        "# Example: a = 5 here \"a\" is of the data type integer.\n",
        "\n",
        "# You can see and write the code below to confirm the data type.\n",
        "\n",
        "a = 5\n",
        "print(type(a))"
      ],
      "metadata": {
        "colab": {
          "base_uri": "https://localhost:8080/"
        },
        "id": "K7kCYhsF0zd8",
        "outputId": "3f3790ca-fb08-437c-d2c3-74ef94812aed"
      },
      "execution_count": null,
      "outputs": [
        {
          "output_type": "stream",
          "name": "stdout",
          "text": [
            "<class 'int'>\n"
          ]
        }
      ]
    },
    {
      "cell_type": "code",
      "source": [
        "# 2. Float (float)\n",
        "# - It is specified by a decimal point\n",
        "# - e or E can be used to specify scientific notation\n",
        "# You can test type float by replacing value in \"a\" variable in your code cell with a decimal value\n",
        "\n",
        "# Example: b = 5.5\n",
        "\n",
        "b = 5.5\n",
        "print (type(b))"
      ],
      "metadata": {
        "colab": {
          "base_uri": "https://localhost:8080/"
        },
        "id": "qKjLxuMD08sr",
        "outputId": "d039b919-3914-4a3d-b0cd-681075a37de3"
      },
      "execution_count": null,
      "outputs": [
        {
          "output_type": "stream",
          "name": "stdout",
          "text": [
            "<class 'float'>\n"
          ]
        }
      ]
    },
    {
      "cell_type": "code",
      "source": [
        "# 3. String (str)\n",
        "# -  A string is a collection of one or more characters put in a single quote, double quote or triple quote.\n",
        "\n",
        "# Example:  c = \"Hakuna Matata\"\n",
        "\n",
        "c = \"Hakuna Matata\"\n",
        "print(type(c))"
      ],
      "metadata": {
        "colab": {
          "base_uri": "https://localhost:8080/"
        },
        "id": "va_WrAC61NoE",
        "outputId": "7b73f025-13b8-4cef-e2a9-973969941943"
      },
      "execution_count": null,
      "outputs": [
        {
          "output_type": "stream",
          "name": "stdout",
          "text": [
            "<class 'str'>\n"
          ]
        }
      ]
    },
    {
      "cell_type": "code",
      "source": [
        "# 4. List (list)\n",
        "# - Are used to store multiple items in a single variable\n",
        "# - Are created using square brackets\n",
        "# - Write code below and run to print your list on screen\n",
        "# -Lists are ordered, changeable and allow duplicate values\n",
        "# -  The first item has Index zero - [0], the second item [1]\n",
        "\n",
        "my_garage = [\"Volvo\", \"BMW\", \"VW\", \"Audi\"]\n",
        "\n",
        "print(my_garage)"
      ],
      "metadata": {
        "colab": {
          "base_uri": "https://localhost:8080/"
        },
        "id": "PecjOcap1W7r",
        "outputId": "d99b0d2b-75e3-497d-f2b8-78ec0e55d3de"
      },
      "execution_count": null,
      "outputs": [
        {
          "output_type": "stream",
          "name": "stdout",
          "text": [
            "['Volvo', 'BMW', 'VW', 'Audi']\n"
          ]
        }
      ]
    },
    {
      "cell_type": "code",
      "source": [
        "# Important Definitions\n",
        "# Ordered - it means that the items have predefined order and the order will not change\n",
        "# Changeable - we can add or remove items even after list has been created\n",
        "# Allow duplicates - Since lists are indexed, they can have items with the same value\n",
        "\n",
        "# For Example👇\n",
        "\n",
        "# Testing duplicate values to check if \"Allow duplicates\" is true\n",
        "\n",
        "my_garage = [\"Volvo\", \"BMW\", \"VW\", \"Audi\", \"Volvo\"]\n",
        "\n",
        "print(my_garage)"
      ],
      "metadata": {
        "colab": {
          "base_uri": "https://localhost:8080/"
        },
        "id": "YG7P1Wdc1uAU",
        "outputId": "6419326c-0fd6-4ebb-ed50-f3fe3e2e7abd"
      },
      "execution_count": null,
      "outputs": [
        {
          "output_type": "stream",
          "name": "stdout",
          "text": [
            "['Volvo', 'BMW', 'VW', 'Audi', 'Volvo']\n"
          ]
        }
      ]
    },
    {
      "cell_type": "code",
      "source": [
        "# List length - number of items in a list\n",
        "# We use the len() function to determine number of items in a list\n",
        "\n",
        "print(len(my_garage))"
      ],
      "metadata": {
        "colab": {
          "base_uri": "https://localhost:8080/"
        },
        "id": "_kKiyE9n2BZ0",
        "outputId": "fc0976eb-dec0-42c0-e22c-f2348449a7b1"
      },
      "execution_count": null,
      "outputs": [
        {
          "output_type": "stream",
          "name": "stdout",
          "text": [
            "5\n"
          ]
        }
      ]
    },
    {
      "cell_type": "code",
      "source": [
        "# List items can contain other datatypes\n",
        "# They can have str, int, bool data types.\n",
        "# Example:\n",
        "\n",
        "# Assignment: Print each one of them (8 marks)\n",
        "\n",
        "my_garage = [\"Volvo\", \"BMW\", \"VW\", \"Audi\"]\n",
        "my_numbers = [1, 3, 5, 7, 9]\n",
        "my_bool = [True, False, False]\n",
        "\n",
        "print(my_garage)\n",
        "print(my_numbers)\n",
        "print(my_bool)\n",
        "\n",
        "# A list with different datatypes\n",
        "\n",
        "my_characters = [11, \"BMW\", True, 8.9]\n",
        "\n",
        "print(my_characters)\n",
        "\n"
      ],
      "metadata": {
        "id": "PaVIjd6g2QvM"
      },
      "execution_count": null,
      "outputs": []
    },
    {
      "cell_type": "markdown",
      "source": [
        "**DAY 7**\n",
        "\n",
        "Lets use the text feature of our notebook now. We have been using comments and I hope you have understood how they should be used.\n",
        "\n",
        "**Tuples**\n",
        "- They are used to store multiple items in a single variable\n",
        "\n",
        "They are :\n",
        "- written in round brackets\n",
        "- ordered: Means items have a defined order which does not change\n",
        "- unchangeable/ immutable - We cannot change, add or remove items after it has been created\n",
        "- Allow duplicates - They can have items with similar value\n",
        "\n",
        "Tuples are indexed with first item being [0] and the second item with index [1] and so forth and so forth."
      ],
      "metadata": {
        "id": "EBFoTKe_mot7"
      }
    },
    {
      "cell_type": "code",
      "source": [
        "# Notice the curved brackets/ rounded brackets\n",
        "\n",
        "my_garage = (\"Audi\", \"BMW\", \"vw\", \"Toyota\")\n",
        "\n",
        "print(my_garage)"
      ],
      "metadata": {
        "colab": {
          "base_uri": "https://localhost:8080/"
        },
        "id": "7Vr5zWzTm3AV",
        "outputId": "c5889926-4cf2-4551-9122-9a7636aaa9fb"
      },
      "execution_count": null,
      "outputs": [
        {
          "output_type": "stream",
          "name": "stdout",
          "text": [
            "('Audi', 'BMW', 'vw', 'Toyota')\n"
          ]
        }
      ]
    },
    {
      "cell_type": "markdown",
      "source": [
        "**Tuple Length**\n",
        "- Used to know how many items are in a tuple\n",
        "- Use len() function\n",
        "- In the case below my tuple length would be: 5"
      ],
      "metadata": {
        "id": "MQ9MpYDHsm5M"
      }
    },
    {
      "cell_type": "code",
      "source": [
        "my_garage = (\"Audi\", \"BMW\", \"VW\", \"Toyota\", \"Mitsubishi\")\n",
        "\n",
        "print(len(my_garage))"
      ],
      "metadata": {
        "id": "Z3xjuqfIsgLF"
      },
      "execution_count": null,
      "outputs": []
    },
    {
      "cell_type": "markdown",
      "source": [
        "Create a tuple with one item\n",
        "- To create a tuple with only one item, you have to add a comma after the item, otherwise Python will not recognize it as a tuple."
      ],
      "metadata": {
        "id": "wdMQXjhmtHYr"
      }
    },
    {
      "cell_type": "code",
      "source": [
        "# Wrong\n",
        "my_garage = (\"Audi\")\n",
        "print(my_garage)\n",
        "\n",
        "# Right\n",
        "my_garage = (\"Audi\",)\n",
        "print(my_garage)"
      ],
      "metadata": {
        "id": "_T-dAwoZtIXk"
      },
      "execution_count": null,
      "outputs": []
    },
    {
      "cell_type": "markdown",
      "source": [
        "**Tuples & Other Datatypes**\n",
        "- They can have items of any datatype even tuples to form what we call tuples within tuples\n",
        "- Example using string, integer or boolean datatypes."
      ],
      "metadata": {
        "id": "lJFVoqT7tuOs"
      }
    },
    {
      "cell_type": "code",
      "source": [
        "my_garage = (\"Audi\", 1, True)\n",
        "\n",
        "print(my_garage)"
      ],
      "metadata": {
        "id": "3u31nsPIt83X"
      },
      "execution_count": null,
      "outputs": []
    },
    {
      "cell_type": "markdown",
      "source": [
        "**DAY 8**\n",
        "We are set to cover another datatype.\n",
        "\n",
        "🚀Sets\n",
        "Sets\n",
        "- Used to store multiple items in a single variable.\n",
        "- It is unordered, unchangeable/ immutable and unindexed\n",
        "- They are written with curly brackets"
      ],
      "metadata": {
        "id": "auGL5jw3uIQk"
      }
    },
    {
      "cell_type": "code",
      "source": [
        "my_garage = {\"Audi\", \"BMW\", \"VW\", \"Toyota\"}\n",
        "\n",
        "print(my_garage)"
      ],
      "metadata": {
        "id": "wacD18hEuYtM"
      },
      "execution_count": null,
      "outputs": []
    },
    {
      "cell_type": "markdown",
      "source": [
        "**Definitions:**\n",
        "\n",
        "*   Unordered - means that the item do not  have a defined order\n",
        "You cannot be sure which order the items will appear.\n",
        "*   Unchangeable - We cannot change the items after the set has been created.\n",
        "*   Duplicates are ignored - cannot have items with the same value.\n",
        "\n",
        "\n",
        "\n"
      ],
      "metadata": {
        "id": "DFX02AH5uicu"
      }
    },
    {
      "cell_type": "code",
      "source": [
        "# duplicates are not printed\n",
        "\n",
        "my_garage = {\"Audi\", \"BMW\", \"VW\", \"Toyota\", \"Audi\"}\n",
        "\n",
        "print(my_garage)"
      ],
      "metadata": {
        "id": "huvrejIZudVS"
      },
      "execution_count": null,
      "outputs": []
    },
    {
      "cell_type": "markdown",
      "source": [
        "Note:\n",
        "1.  The values True and 1 are considered the same value in sets, and are treated as duplicates\n",
        "\n",
        "2. The values False and 0 are considered the same value in sets, and are treated as duplicates\n",
        "\n",
        "Example:"
      ],
      "metadata": {
        "id": "qFomAiMwvPXJ"
      }
    },
    {
      "cell_type": "code",
      "source": [
        "my_garage = {\"Audi\", \"BMW\", \"VW\", \"Toyota\", True, 1, 0, False}\n",
        "\n",
        "print(my_garage)"
      ],
      "metadata": {
        "id": "hW7gYMRFvQio"
      },
      "execution_count": null,
      "outputs": []
    },
    {
      "cell_type": "markdown",
      "source": [
        "Length of a Set\n",
        "- Use the len() function in a similar way that we have seen in the past datatypes\n",
        "\n",
        "1. Sets Items can be of any datatype\n",
        "- Also similar to how we have applied on previous code.\n",
        "- The difference is only the curly brackets.\n",
        "\n",
        "2. A set can  contain different datatypes"
      ],
      "metadata": {
        "id": "u_lL65QAvWZx"
      }
    },
    {
      "cell_type": "code",
      "source": [
        "#Sets Items can be of any datatype\n",
        "my_garage = {\"Audi\", 1, True}\n",
        "\n",
        "print(my_garage)"
      ],
      "metadata": {
        "id": "DIwuElFQvXY6"
      },
      "execution_count": null,
      "outputs": []
    },
    {
      "cell_type": "markdown",
      "source": [
        "\n",
        "**Create a Github Account if you don't have one yet**\n",
        "\n",
        "It's important in housing our code, portfolio platform as well as a collaborative platform among many other use cases.\n",
        "\n",
        "![GVh2CDiX0AEK2VM.jfif](data:image/jpeg;base64,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)"
      ],
      "metadata": {
        "id": "9-f-6w7Yvtdi"
      }
    },
    {
      "cell_type": "markdown",
      "source": [
        "**DAY 9** <br>\n",
        "\n",
        "**Dictionaries** <br>\n",
        "Definition: is a data structure that stores the value in key: value pairs.\n",
        "- A dictionary is a collection which is ordered*, changeable and do not allow duplicates.\n",
        "-  Dictionaries are written with curly brackets{}, and have keys and values.\n",
        "\n",
        "For Example👇"
      ],
      "metadata": {
        "id": "7aczEqxTwRM8"
      }
    },
    {
      "cell_type": "code",
      "source": [
        "my_garage = {\"name\":\"Audi\",\n",
        "             \"model\": \"Q3\",\n",
        "             \"year\": 2020}\n",
        "\n",
        "print(my_garage)"
      ],
      "metadata": {
        "id": "V9tg8tKDwPZq"
      },
      "execution_count": null,
      "outputs": []
    },
    {
      "cell_type": "markdown",
      "source": [
        "In the code above,,\n",
        "An example in the dictionary of Key is \"model\" while the Value is \"Q3\".\n",
        "\n",
        "**Dictionaries are:**<br>\n",
        "Ordered: means that the items have a defined order and that order will not change.\n",
        "\n",
        "Changeable: We can change, add or remove items after the dictionary has been created.\n",
        "\n",
        "Duplicates are not allowed:  They cannot have items with the same key."
      ],
      "metadata": {
        "id": "v9B90ch-xcWV"
      }
    },
    {
      "cell_type": "code",
      "source": [
        "#duplicates not allowed example\n",
        "my_garage = {\"name\":\"Audi\",\n",
        "             \"model\": \"Q3\",\n",
        "             \"year\": 2020,\n",
        "             \"year\": 2022}\n",
        "\n",
        "print(my_garage)\n",
        "\n",
        "#You will get an error"
      ],
      "metadata": {
        "id": "TQ--P1zLxtJQ"
      },
      "execution_count": null,
      "outputs": []
    },
    {
      "cell_type": "markdown",
      "source": [
        "Check for length\n",
        "- Used to determine how many items a dictionary has.\n",
        "- We use the len() function\n",
        "- Implementation is similar to the other dtypes.\n",
        "Example code:👉`print(len(my_garage))`"
      ],
      "metadata": {
        "id": "LWujxKpLx5M3"
      }
    },
    {
      "cell_type": "markdown",
      "source": [
        "\n",
        "Dictionary Items  Data Types\n",
        "- The values in dictionary items can be of any data type.\n",
        "- They can contain a string, int, boolean and list data types.\n",
        "\n"
      ],
      "metadata": {
        "id": "F-k-dyXix9OJ"
      }
    },
    {
      "cell_type": "code",
      "source": [
        "\n",
        "\n",
        "my_garage = {\"name\":\"Audi\",\n",
        "             \"model\": \"Q3\",\n",
        "             \"brand_new\" : False,\n",
        "             \"year\": 2020,\n",
        "             \"colors\": [\"green\", \"blue\", \"black\"]}\n",
        "\n",
        "print(my_garage)"
      ],
      "metadata": {
        "id": "WnnOAu2ux8aT"
      },
      "execution_count": null,
      "outputs": []
    },
    {
      "cell_type": "markdown",
      "source": [
        "**DAY 10**\n",
        "\n",
        "Access, Change , Add, Remove List Items\n",
        "\n"
      ],
      "metadata": {
        "id": "tdjxrKRTyi5N"
      }
    },
    {
      "cell_type": "markdown",
      "source": [
        "**Access Items**\n",
        "List items are indexed and you can access them by referring to its index number👇\n",
        "*Note: The first item in programming is usually index 0. Applies here as well.*"
      ],
      "metadata": {
        "id": "kQRoa4FpzEM3"
      }
    },
    {
      "cell_type": "code",
      "source": [
        "my_garage = [\"Audi\", \"BMW\", \"Toyota\"]\n",
        "\n",
        "print(my_garage[1])"
      ],
      "metadata": {
        "id": "xGELXh9TzJqM"
      },
      "execution_count": null,
      "outputs": []
    },
    {
      "cell_type": "markdown",
      "source": [
        "**Negative indexing** <BR>\n",
        "This means the count starts from the end.\n",
        "e.g -1 refers to the last item, -2 refers to the second last item and such."
      ],
      "metadata": {
        "id": "hCmkqljcztlI"
      }
    },
    {
      "cell_type": "code",
      "source": [
        "my_garage = [\"Audi\", \"BMW\", \"Toyota\"]\n",
        "\n",
        "print(my_garage[-1])"
      ],
      "metadata": {
        "id": "DvSGfiyoztOq"
      },
      "execution_count": null,
      "outputs": []
    },
    {
      "cell_type": "markdown",
      "source": [
        "**Range of indexes**\n",
        "1. Specifying in a list, at what index to start and end in a list.\n",
        "For example you would want to list the second to the 5th item in a list👇"
      ],
      "metadata": {
        "id": "NPQ5M2N0z4Fx"
      }
    },
    {
      "cell_type": "code",
      "source": [
        "# list second, third, fourth and fifth item in a list\n",
        "\n",
        "my_garage = [\"Audi\", \"BMW\", \"Toyota\", \"Chevy\", \"VW\", \"Ford\"]\n",
        "\n",
        "print(my_garage[1:5])\n"
      ],
      "metadata": {
        "id": "Ha1SD8LEz3fi"
      },
      "execution_count": null,
      "outputs": []
    },
    {
      "cell_type": "markdown",
      "source": [
        "2. By leaving out the start value, it starts at the default first item or index 0."
      ],
      "metadata": {
        "id": "mKw8JaFp2DcJ"
      }
    },
    {
      "cell_type": "code",
      "source": [
        "my_garage = [\"Audi\", \"BMW\", \"Toyota\", \"Chevy\", \"VW\", \"Ford\"]\n",
        "\n",
        "print(my_garage[:4])"
      ],
      "metadata": {
        "id": "tbVzDIGa2Ego"
      },
      "execution_count": null,
      "outputs": []
    },
    {
      "cell_type": "markdown",
      "source": [
        "3. By leaving out the end value, the range will go on to end the list."
      ],
      "metadata": {
        "id": "W3yf78NW2Rwj"
      }
    },
    {
      "cell_type": "code",
      "source": [
        "my_garage = [\"Audi\", \"BMW\", \"Toyota\", \"Chevy\", \"VW\", \"Ford\"]\n",
        "\n",
        "print(my_garage[2:])"
      ],
      "metadata": {
        "id": "88kI3b-D2Vwr"
      },
      "execution_count": null,
      "outputs": []
    },
    {
      "cell_type": "markdown",
      "source": [
        "Check if Item Exists\n",
        "Use the \"in\" keyword\n",
        "Remember: Python is English-like as seen here👇"
      ],
      "metadata": {
        "id": "yqwaYCKr2fRz"
      }
    },
    {
      "cell_type": "code",
      "source": [
        "my_garage = [\"Audi\", \"BMW\", \"Toyota\", \"Chevy\", \"VW\", \"Ford\"]\n",
        "\n",
        "if \"Toyota\" in my_garage:\n",
        "  print(\"Yes, 'Toyota' is in the list\")"
      ],
      "metadata": {
        "id": "Czh4MeS32gbe"
      },
      "execution_count": null,
      "outputs": []
    },
    {
      "cell_type": "markdown",
      "source": [
        "**Change List Items**\n",
        "\n",
        "To change/ replace the value of an item, you will need to refer to its index number."
      ],
      "metadata": {
        "id": "am95u9Kr2lG2"
      }
    },
    {
      "cell_type": "code",
      "source": [
        "my_garage = [\"Audi\", \"BMW\", \"Toyota\", \"Chevy\", \"VW\", \"Ford\"]\n",
        "\n",
        "my_garage[1] = \"Tesla\"\n",
        "\n",
        "print(my_garage)"
      ],
      "metadata": {
        "id": "KXejKtm32vTN"
      },
      "execution_count": null,
      "outputs": []
    },
    {
      "cell_type": "markdown",
      "source": [
        "Note: When the range is 1:3 it means it refers to index 1 and index 2.\n",
        "To change the value of items within a specific range, create a list with the new values, and refer to the range of index numbers where you want to insert the new values."
      ],
      "metadata": {
        "id": "KjqFPQK726FE"
      }
    },
    {
      "cell_type": "code",
      "source": [
        "my_garage = [\"Audi\", \"BMW\", \"Toyota\", \"Chevy\", \"VW\", \"Ford\"]\n",
        "\n",
        "my_garage[1:3] = [\"Tesla\", \"Honda\"]\n",
        "\n",
        "print(my_garage)"
      ],
      "metadata": {
        "id": "FSZL5evC27J3"
      },
      "execution_count": null,
      "outputs": []
    },
    {
      "cell_type": "markdown",
      "source": [
        "What happens when you put more items in your incoming list items than the range specified?\n",
        "Try out👨‍💻👇\n",
        "\n",
        "*The number of list items increases"
      ],
      "metadata": {
        "id": "hdDHtSbq3BSa"
      }
    },
    {
      "cell_type": "code",
      "source": [
        "my_garage = [\"Audi\", \"BMW\", \"Toyota\", \"Chevy\", \"VW\", \"Ford\"]\n",
        "\n",
        "my_garage[1:3] = [\"Tesla\", \"Honda\", \"Nissan\"]\n",
        "\n",
        "print(my_garage)"
      ],
      "metadata": {
        "id": "EZN85DlO3CCj"
      },
      "execution_count": null,
      "outputs": []
    },
    {
      "cell_type": "markdown",
      "source": [
        "If you insert less items than the specified range.\n",
        "The new item will be inserted where specified while rest will move accordingly.\n",
        "\n",
        "For example:"
      ],
      "metadata": {
        "id": "XkCXNoha3IIp"
      }
    },
    {
      "cell_type": "code",
      "source": [
        "my_garage = [\"Audi\", \"BMW\", \"Toyota\", \"Chevy\", \"VW\", \"Ford\"]\n",
        "\n",
        "my_garage[1:3] = [\"Tesla\"]\n",
        "\n",
        "print(my_garage)"
      ],
      "metadata": {
        "id": "B2CUuR8M3I53"
      },
      "execution_count": null,
      "outputs": []
    },
    {
      "cell_type": "markdown",
      "source": [
        "Insert() method\n",
        "- Used to insert a new list item, without replacing any of the existing value unlike the ones above\n",
        "For Example: Insert \"Bugatti\" and the fourth item."
      ],
      "metadata": {
        "id": "nce52fZg3PtM"
      }
    },
    {
      "cell_type": "code",
      "source": [
        "my_garage = [\"Audi\", \"BMW\", \"Toyota\", \"Chevy\", \"VW\", \"Ford\"]\n",
        "\n",
        "my_garage.insert(3, \"Bugatti\")\n",
        "\n",
        "print(my_garage)"
      ],
      "metadata": {
        "id": "R00axAl93QhX"
      },
      "execution_count": null,
      "outputs": []
    },
    {
      "cell_type": "markdown",
      "source": [
        "**DAY 11**\n",
        "\n",
        "append() method\n",
        "Since we already discussed insert() on the post let's dive direct to append() method.\n",
        "\n",
        "The difference between this two is that insert() enables you to add an item to a specified index while append() adds an item to the list as the last item.\n",
        "\n",
        "Try out👇"
      ],
      "metadata": {
        "id": "yVEeR7yz3WHy"
      }
    },
    {
      "cell_type": "code",
      "source": [
        "# Append() method\n",
        "\n",
        "my_garage = [\"Audi\", \"BMW\", \"Toyota\", \"Chevy\", \"VW\", \"Ford\"]\n",
        "\n",
        "my_garage.append(\"Bugatti\")\n",
        "\n",
        "print(my_garage)"
      ],
      "metadata": {
        "id": "Ayy7gtXi3i2e"
      },
      "execution_count": null,
      "outputs": []
    },
    {
      "cell_type": "markdown",
      "source": [
        "extend() Method\n",
        "- Used to add a list to another list\n",
        "- the list items will be added at the end of my_garage list"
      ],
      "metadata": {
        "id": "DumxXGvT3sjE"
      }
    },
    {
      "cell_type": "code",
      "source": [
        "my_garage = [\"Audi\", \"BMW\", \"Toyota\", \"Chevy\", \"VW\", \"Ford\"]\n",
        "\n",
        "my_cars = [\"Tesla\", \"Honda\", \"Nissan\"]\n",
        "\n",
        "my_garage.extend(my_cars)\n",
        "\n",
        "print(my_garage)"
      ],
      "metadata": {
        "id": "HN5jFrMU32al"
      },
      "execution_count": null,
      "outputs": []
    },
    {
      "cell_type": "markdown",
      "source": [
        "You can add elements like sets, tuples and dictionaries to lists.\n",
        "Lets Look at examples;\n",
        "*Adding sets is done similar to tuples except in place of curved brackets we have curly braces.\n",
        "- For dictionaries it's a bit different"
      ],
      "metadata": {
        "id": "-v-yiR9V367z"
      }
    },
    {
      "cell_type": "code",
      "source": [
        "# extending dictionaries into a list\n",
        "# 1. Create an empty list\n",
        "my_garage = []\n",
        "# 2. Create a dictionary to add to the list\n",
        "\n",
        "my_garage1 = {\n",
        "    \"name\":\"Audi\",\n",
        "    \"model\": \"Q3\",\n",
        "    \"year\": 2020\n",
        "}\n",
        "my_garage.extend(my_garage1)\n",
        "#You can end it here and print. You can as well have more than one dictionary in a list:\n",
        "print(my_garage)\n",
        "# Create another dictionary\n",
        "my_garage2 = {\n",
        "    \"name\":\"Tesla\",\n",
        "    \"model\": \"S\",\n",
        "    \"year\": 2022\n",
        "}\n",
        "my_garage.extend(my_garage2)\n",
        "print(my_garage)"
      ],
      "metadata": {
        "id": "b4PfZeLV37rM"
      },
      "execution_count": null,
      "outputs": []
    },
    {
      "cell_type": "markdown",
      "source": [
        "Lets now look at removing list items\n",
        "1. remove() method\n",
        "- Removes a specified item\n",
        "*If we have two occurrences of the item. It only removes the first one."
      ],
      "metadata": {
        "id": "WF23gSkU4ydB"
      }
    },
    {
      "cell_type": "code",
      "source": [
        "my_garage = [\"Audi\", \"BMW\", \"Toyota\", \"Chevy\", \"VW\", \"Ford\"]\n",
        "\n",
        "my_garage.remove(\"Toyota\")\n",
        "\n",
        "print(my_garage)"
      ],
      "metadata": {
        "id": "9v0Sh_xV41Ku"
      },
      "execution_count": null,
      "outputs": []
    },
    {
      "cell_type": "markdown",
      "source": [
        "2. pop() method\n",
        "- Remove a specified index\n",
        "* If you do not specify the index, the pop() method removes the last item."
      ],
      "metadata": {
        "id": "W59b9SyN45f2"
      }
    },
    {
      "cell_type": "code",
      "source": [
        "my_garage = [\"Audi\", \"BMW\", \"Toyota\", \"Chevy\", \"VW\", \"Ford\"]\n",
        "\n",
        "my_garage.pop(1)\n",
        "\n",
        "print(my_garage)"
      ],
      "metadata": {
        "id": "-oZW3k4X49dP"
      },
      "execution_count": null,
      "outputs": []
    },
    {
      "cell_type": "markdown",
      "source": [
        "\n",
        "3. del() method\n",
        "- removes a specified index : works the same as pop()\n",
        "- can be used to delete list completely."
      ],
      "metadata": {
        "id": "xCgvrWHp5DkB"
      }
    },
    {
      "cell_type": "code",
      "source": [
        "my_garage = [\"Audi\", \"BMW\", \"Toyota\", \"Chevy\", \"VW\", \"Ford\"]\n",
        "\n",
        "del my_garage[0]"
      ],
      "metadata": {
        "id": "_97HKbJ85DNF"
      },
      "execution_count": null,
      "outputs": []
    },
    {
      "cell_type": "code",
      "source": [
        "# deleting the list completely\n",
        "my_garage = [\"Audi\", \"BMW\", \"Toyota\", \"Chevy\", \"VW\", \"Ford\"]\n",
        "\n",
        "del my_garage"
      ],
      "metadata": {
        "id": "zNs7U5Kj5Ku_"
      },
      "execution_count": null,
      "outputs": []
    },
    {
      "cell_type": "markdown",
      "source": [
        "4. clear() method\n",
        "- This empties items in a list"
      ],
      "metadata": {
        "id": "V4zU1EoW5N0o"
      }
    },
    {
      "cell_type": "code",
      "source": [
        "my_garage = [\"Audi\", \"BMW\", \"Toyota\", \"Chevy\", \"VW\", \"Ford\"]\n",
        "\n",
        "my_garage.clear()\n",
        "\n",
        "print(my_garage)"
      ],
      "metadata": {
        "id": "6utDP-2f5QRE"
      },
      "execution_count": null,
      "outputs": []
    },
    {
      "cell_type": "markdown",
      "source": [
        "**Importance of Lists in AI Development**\n",
        "<BR>\n",
        "Python lists are a fundamental data structure that plays a crucial role in many aspects of artificial intelligence (AI) development. They are versatile and easy to use, making them a popular choice for handling data, managing workflows, and implementing algorithms. Here’s how Python lists are used in AI:\n",
        "\n",
        "### **1. Storing and Managing Data**\n",
        "   - **Data Collection:** In AI, lists are often used to store datasets, which may include numerical data, text, images, or any other form of input that needs to be processed. For example, a list can hold a sequence of images or a series of text documents for natural language processing tasks.\n",
        "   - **Data Batching:** When training machine learning models, data is often divided into batches to improve computational efficiency. Lists can be used to create and manage these batches of data.\n",
        "\n",
        "### **2. Implementing Algorithms**\n",
        "   - **Search and Sort Algorithms:** Lists are used to implement basic algorithms like search (e.g., linear search, binary search) and sorting (e.g., quicksort, mergesort), which are foundational in AI for data preprocessing and feature engineering.\n",
        "   - **Graph Algorithms:** In AI, particularly in fields like network analysis or game development, graphs are often represented using adjacency lists. Python lists are used to store the neighbors of each node, making it easy to traverse and manipulate the graph.\n",
        "\n",
        "### **3. Neural Network Operations**\n",
        "   - **Layer Management:** Lists can be used to manage layers in a neural network. Each layer’s weights, biases, and activation functions can be stored in lists, allowing easy iteration and modification during forward and backward passes.\n",
        "   - **Storing Weights and Biases:** During the training of neural networks, lists can hold the weights and biases of each neuron. These lists are updated during backpropagation.\n",
        "\n",
        "### **4. Handling Sequences in Natural Language Processing (NLP)**\n",
        "   - **Token Sequences:** In NLP, sentences are often tokenized into words or characters, which are then stored in lists. These sequences of tokens are fed into models like Recurrent Neural Networks (RNNs) or Transformers for processing.\n",
        "   - **Language Models:** Lists are used to manage sequences of words or sentences in tasks like language modeling, text generation, and machine translation.\n",
        "\n",
        "### **5. Reinforcement Learning**\n",
        "   - **Experience Replay Buffers:** In reinforcement learning, an agent’s past experiences (states, actions, rewards, and next states) are stored in a list called an experience replay buffer. This buffer is used to sample experiences for training the agent, helping to break correlation between consecutive samples and improve learning efficiency.\n",
        "   - **Action and State Storage:** Lists can store the sequence of actions taken by an agent and the corresponding states observed in the environment, which are critical for training and policy evaluation.\n",
        "\n",
        "### **6. Handling Outputs and Predictions**\n",
        "   - **Storing Model Predictions:** After a model makes predictions, these predictions can be stored in lists for further analysis, comparison, or post-processing.\n",
        "   - **Output Formatting:** In tasks like image classification or object detection, the model’s outputs (e.g., class labels, bounding box coordinates) are often stored in lists for easy access and manipulation.\n",
        "\n",
        "### **7. Data Augmentation and Preprocessing**\n",
        "   - **Applying Transformations:** Lists can store different data augmentation techniques (e.g., flipping, rotation, scaling) that are applied to images or other input data during preprocessing. Iterating through these lists ensures that all augmentations are applied systematically.\n",
        "\n",
        "### **8. Handling Multiple Models or Experiments**\n",
        "   - **Model Ensembling:** Lists can be used to store multiple models in an ensemble, where each model’s predictions are combined to improve overall accuracy.\n",
        "   - **Experiment Tracking:** During experimentation, lists can track different models, hyperparameters, or evaluation metrics, making it easier to compare results and select the best-performing configuration.\n",
        "\n",
        "In summary, Python lists are an essential tool in AI, providing the flexibility and simplicity needed to manage data, implement algorithms, and organize various components of AI models and workflows. Their versatility makes them a go-to structure in many AI applications."
      ],
      "metadata": {
        "id": "kD72sYde5VVY"
      }
    },
    {
      "cell_type": "markdown",
      "source": [
        "**DAY 12**\n",
        "\n",
        "\n",
        "I have thought that it would be a good idea to skip loop lists and lists comprehension.\n",
        "These will be tackled in the Loops topic.\n",
        "\n",
        "Let's do Sort Lists, Copy Lists & Join Lists then finish on lists.\n",
        "![GWqNz7RWwAEznEj.jfif](data:image/jpeg;base64,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)"
      ],
      "metadata": {
        "id": "DBgUVPjX5h2e"
      }
    },
    {
      "cell_type": "markdown",
      "source": [
        "Sort Lists\n",
        "- Here we use the sort() method\n",
        "- It sorts the list alphabetically or numerically by default"
      ],
      "metadata": {
        "id": "8tgs5HfGzYQl"
      }
    },
    {
      "cell_type": "code",
      "source": [
        "#sort alphabetically\n",
        "\n",
        "my_garage = [\"Audi\", \"BMW\", \"Toyota\", \"Chevy\", \"VW\", \"Ford\"]\n",
        "print(my_garage)"
      ],
      "metadata": {
        "colab": {
          "base_uri": "https://localhost:8080/"
        },
        "id": "Kn91bdRnzhnI",
        "outputId": "306260bb-9559-4452-c4a5-d91f45e8075b"
      },
      "execution_count": 3,
      "outputs": [
        {
          "output_type": "stream",
          "name": "stdout",
          "text": [
            "['Audi', 'BMW', 'Toyota', 'Chevy', 'VW', 'Ford']\n"
          ]
        }
      ]
    },
    {
      "cell_type": "code",
      "source": [
        "#sort numerically\n",
        "\n",
        "my_garage = [100, 56, 128, 88976]\n",
        "\n",
        "my_garage.sort()\n",
        "print(my_garage)"
      ],
      "metadata": {
        "colab": {
          "base_uri": "https://localhost:8080/"
        },
        "id": "1TdrVc_Gzz1t",
        "outputId": "0c63d5bb-51bb-442a-cb33-112a45f56522"
      },
      "execution_count": 4,
      "outputs": [
        {
          "output_type": "stream",
          "name": "stdout",
          "text": [
            "[56, 100, 128, 88976]\n"
          ]
        }
      ]
    },
    {
      "cell_type": "code",
      "source": [
        "#sort descending\n",
        "\n",
        "my_garage = [\"Audi\", \"BMW\", \"Toyota\", \"Chevy\", \"VW\", \"Ford\"]\n",
        "\n",
        "my_garage.sort(reverse = True)\n",
        "print(my_garage)"
      ],
      "metadata": {
        "colab": {
          "base_uri": "https://localhost:8080/"
        },
        "id": "T05pzkJ40NWt",
        "outputId": "b6e1c94b-a3bf-45fd-d854-7f0b39cde8e2"
      },
      "execution_count": 5,
      "outputs": [
        {
          "output_type": "stream",
          "name": "stdout",
          "text": [
            "['VW', 'Toyota', 'Ford', 'Chevy', 'BMW', 'Audi']\n"
          ]
        }
      ]
    },
    {
      "cell_type": "markdown",
      "source": [
        "By default the sort() method is case sensitive, resulting in all capital letters being sorted before lower case letters:\n",
        "- Case sensitive sorting can give an unexpected result:"
      ],
      "metadata": {
        "id": "ptdtw3bv051d"
      }
    },
    {
      "cell_type": "code",
      "source": [
        "# Case sensitive\n",
        "\n",
        "my_garage = [\"audi\", \"bmw\", \"toyota\", \"chevy\", \"vw\", \"ford\"]\n",
        "\n",
        "my_garage.sort()\n",
        "print(my_garage)"
      ],
      "metadata": {
        "colab": {
          "base_uri": "https://localhost:8080/"
        },
        "id": "poTDfpza1DXm",
        "outputId": "060eea47-09ce-4368-ddb8-d4843db763f8"
      },
      "execution_count": 6,
      "outputs": [
        {
          "output_type": "stream",
          "name": "stdout",
          "text": [
            "['audi', 'bmw', 'chevy', 'ford', 'toyota', 'vw']\n"
          ]
        }
      ]
    },
    {
      "cell_type": "markdown",
      "source": [
        "Luckily we can use built-in functions as key functions when sorting a list.\n",
        "\n",
        "So if you want a case-insensitive sort function, use str.lower as a key function.\n",
        "Perform a sort that ignores case of the list."
      ],
      "metadata": {
        "id": "rIDR_im6zcwN"
      }
    },
    {
      "cell_type": "code",
      "source": [
        "my_garage = [\"audi\", \"bmw\", \"toyota\", \"chevy\", \"vw\", \"ford\"]\n",
        "\n",
        "my_garage.sort(key = str.lower)\n",
        "print(my_garage)"
      ],
      "metadata": {
        "colab": {
          "base_uri": "https://localhost:8080/"
        },
        "id": "K2zrYpRM1Qte",
        "outputId": "fe92a93f-18de-48e3-ab52-06eb7240e53f"
      },
      "execution_count": 7,
      "outputs": [
        {
          "output_type": "stream",
          "name": "stdout",
          "text": [
            "['audi', 'bmw', 'chevy', 'ford', 'toyota', 'vw']\n"
          ]
        }
      ]
    },
    {
      "cell_type": "markdown",
      "source": [
        "Reverse Order\n",
        "- The reverse() method reverses the current sorting order of the elements."
      ],
      "metadata": {
        "id": "njdq88zp1xDG"
      }
    },
    {
      "cell_type": "code",
      "source": [
        "#reverse sort\n",
        "my_garage = [\"Audi\", \"BMW\", \"Toyota\", \"Chevy\", \"VW\", \"Ford\"]\n",
        "\n",
        "my_garage.reverse()\n",
        "print(my_garage)"
      ],
      "metadata": {
        "colab": {
          "base_uri": "https://localhost:8080/"
        },
        "id": "qLq0Z6hc1y0d",
        "outputId": "d3b92d04-a35f-4449-e2b4-079270fb9cce"
      },
      "execution_count": 8,
      "outputs": [
        {
          "output_type": "stream",
          "name": "stdout",
          "text": [
            "['Ford', 'VW', 'Chevy', 'Toyota', 'BMW', 'Audi']\n"
          ]
        }
      ]
    },
    {
      "cell_type": "markdown",
      "source": [
        "Copy Lists\n",
        "- You can copy a list's item into another list\n",
        "\n",
        "- You can also use the list() method\n",
        "or use the slice operator (:)"
      ],
      "metadata": {
        "id": "nnC-yRdY18qN"
      }
    },
    {
      "cell_type": "code",
      "source": [
        "# Copy List\n",
        "my_garage = [\"Audi\", \"BMW\", \"Toyota\", \"Chevy\", \"VW\", \"Ford\"]\n",
        "\n",
        "my_garage_copy = my_garage.copy()\n",
        "print(my_garage_copy)\n"
      ],
      "metadata": {
        "colab": {
          "base_uri": "https://localhost:8080/"
        },
        "id": "P9DAHXKl1_ve",
        "outputId": "4d6acba2-e8ed-4004-c079-a035eaafde9b"
      },
      "execution_count": 9,
      "outputs": [
        {
          "output_type": "stream",
          "name": "stdout",
          "text": [
            "['Audi', 'BMW', 'Toyota', 'Chevy', 'VW', 'Ford']\n"
          ]
        }
      ]
    },
    {
      "cell_type": "code",
      "source": [
        "# Copy List\n",
        "my_garage = [\"Audi\", \"BMW\", \"Toyota\", \"Chevy\", \"VW\", \"Ford\"]\n",
        "\n",
        "my_garage_copy = list(my_garage)\n",
        "print(my_garage_copy)"
      ],
      "metadata": {
        "colab": {
          "base_uri": "https://localhost:8080/"
        },
        "id": "jPd0Wyhz2Nc9",
        "outputId": "209098f6-d0bf-4609-deb8-1da51f3ff88f"
      },
      "execution_count": 10,
      "outputs": [
        {
          "output_type": "stream",
          "name": "stdout",
          "text": [
            "['Audi', 'BMW', 'Toyota', 'Chevy', 'VW', 'Ford']\n"
          ]
        }
      ]
    },
    {
      "cell_type": "code",
      "source": [
        "#Copy List\n",
        "my_garage = [\"Audi\", \"BMW\", \"Toyota\", \"Chevy\", \"VW\", \"Ford\"]\n",
        "\n",
        "my_garage_copy = my_garage[:]\n",
        "print(my_garage_copy)"
      ],
      "metadata": {
        "colab": {
          "base_uri": "https://localhost:8080/"
        },
        "id": "2DVE4u312UKV",
        "outputId": "479c6c9e-c2f1-4f6f-d7ff-817b11b1f609"
      },
      "execution_count": 12,
      "outputs": [
        {
          "output_type": "stream",
          "name": "stdout",
          "text": [
            "['Audi', 'BMW', 'Toyota', 'Chevy', 'VW', 'Ford']\n"
          ]
        }
      ]
    },
    {
      "cell_type": "markdown",
      "source": [
        "Join Lists\n",
        "- There are several ways to join, (or concatenate) two or more lists\n",
        "\n",
        "**1. One of the ways to use the + operator**\n",
        "\n"
      ],
      "metadata": {
        "id": "J5e__G5O2fG9"
      }
    },
    {
      "cell_type": "code",
      "source": [
        "# Join Lists\n",
        "my_garage = [\"Audi\", \"BMW\", \"Toyota\", \"Chevy\", \"VW\", \"Ford\"]\n",
        "new_garage = [\"Land Rover\", \"Ford\", \"Tesla\"]\n",
        "\n",
        "my_garage_new = my_garage + new_garage\n",
        "print(my_garage_new)\n"
      ],
      "metadata": {
        "colab": {
          "base_uri": "https://localhost:8080/"
        },
        "id": "gwH8s-S52Y2P",
        "outputId": "fc8ab375-d0f4-4441-c26d-31d59397d782"
      },
      "execution_count": 13,
      "outputs": [
        {
          "output_type": "stream",
          "name": "stdout",
          "text": [
            "['Audi', 'BMW', 'Toyota', 'Chevy', 'VW', 'Ford', 'Land Rover', 'Ford', 'Tesla']\n"
          ]
        }
      ]
    },
    {
      "cell_type": "markdown",
      "source": [
        "**2. Appending the lists one by one.**\n",
        "\n",
        "a for loop is used here.\n",
        "- added int at the end of new_garage list in order to show that lists can be joined regardless of the datatypes."
      ],
      "metadata": {
        "id": "VVNRK-8v28Gv"
      }
    },
    {
      "cell_type": "code",
      "source": [
        "# Join lists\n",
        "my_garage = [\"Audi\", \"BMW\", \"Toyota\", \"Chevy\", \"VW\", \"Ford\"]\n",
        "new_garage = [\"Land Rover\", \"Ford\", \"Tesla\", 1, 56]\n",
        "\n",
        "for i in new_garage:\n",
        "  my_garage.append(i)\n",
        "\n",
        "print(my_garage)"
      ],
      "metadata": {
        "colab": {
          "base_uri": "https://localhost:8080/"
        },
        "id": "_lCPBbGo3Q59",
        "outputId": "2b89108a-e181-48da-b307-83bbbde79286"
      },
      "execution_count": 15,
      "outputs": [
        {
          "output_type": "stream",
          "name": "stdout",
          "text": [
            "['Audi', 'BMW', 'Toyota', 'Chevy', 'VW', 'Ford', 'Land Rover', 'Ford', 'Tesla', 1, 56]\n"
          ]
        }
      ]
    },
    {
      "cell_type": "markdown",
      "source": [
        "**3. Use of extend() method**\n",
        "- add elements from one list to another\n",
        "- add new_garage to my_garage"
      ],
      "metadata": {
        "id": "yPWKvpbY3jdN"
      }
    },
    {
      "cell_type": "code",
      "source": [
        "# Join Lists\n",
        "my_garage = [\"Audi\", \"BMW\", \"Toyota\", \"Chevy\", \"VW\", \"Ford\"]\n",
        "new_garage = [\"Land Rover\", \"Ford\", \"Tesla\", 1, 56]\n",
        "\n",
        "my_garage.extend(new_garage)\n",
        "print(my_garage)"
      ],
      "metadata": {
        "colab": {
          "base_uri": "https://localhost:8080/"
        },
        "id": "b3YTeEO43qV_",
        "outputId": "2f9278a7-dd8d-4e46-a498-e2012a371baf"
      },
      "execution_count": 16,
      "outputs": [
        {
          "output_type": "stream",
          "name": "stdout",
          "text": [
            "['Audi', 'BMW', 'Toyota', 'Chevy', 'VW', 'Ford', 'Land Rover', 'Ford', 'Tesla', 1, 56]\n"
          ]
        }
      ]
    },
    {
      "cell_type": "markdown",
      "source": [
        "**DAY 13** <br>\n",
        "**Tuples Deep Dive - Accessing Tuples**"
      ],
      "metadata": {
        "id": "65w1vOKc3P7d"
      }
    },
    {
      "cell_type": "markdown",
      "source": [
        "**1. Access Tuple Items**\n",
        "- You can access tuple items by referring to the index number, inside square brackets\n",
        "- Print the second item in the tuple"
      ],
      "metadata": {
        "id": "Jrl2IaS54Od9"
      }
    },
    {
      "cell_type": "code",
      "source": [
        "#print second item in the tuple\n",
        "my_garage = (\"Audi\", \"BMW\", \"Toyota\", \"Chevy\", \"VW\", \"Ford\")\n",
        "print(my_garage[3])"
      ],
      "metadata": {
        "colab": {
          "base_uri": "https://localhost:8080/"
        },
        "id": "_QXq829a4VRQ",
        "outputId": "65922a16-7678-4bbd-f4ce-0b130dfc886c"
      },
      "execution_count": 17,
      "outputs": [
        {
          "output_type": "stream",
          "name": "stdout",
          "text": [
            "Chevy\n"
          ]
        }
      ]
    },
    {
      "cell_type": "markdown",
      "source": [
        "**Negative Indexing**\n",
        "- Negative indexing means start from the other end.\n",
        "- -1 refers to the last item, -2 refers to the second last item etc."
      ],
      "metadata": {
        "id": "ON45JImv4iad"
      }
    },
    {
      "cell_type": "code",
      "source": [
        "# print second last item in the tuple\n",
        "\n",
        "my_garage = (\"Audi\", \"BMW\", \"Toyota\", \"Chevy\", \"VW\", \"Ford\")\n",
        "print(my_garage[-2])"
      ],
      "metadata": {
        "colab": {
          "base_uri": "https://localhost:8080/"
        },
        "id": "VOd4W-Ug4qtN",
        "outputId": "afb8bb6d-911c-446b-ed07-de55d7d0f190"
      },
      "execution_count": 18,
      "outputs": [
        {
          "output_type": "stream",
          "name": "stdout",
          "text": [
            "VW\n"
          ]
        }
      ]
    },
    {
      "cell_type": "markdown",
      "source": [
        "**Range of Indexes**\n",
        "- You can specify a range of indexes by specifying where to start and where to end the range.\n",
        "- When specifying a range, the return value will be a new tuple with the specified items.\n",
        "- By leaving out the start value, the range will start at the first item."
      ],
      "metadata": {
        "id": "AjNLpkJm41ZG"
      }
    },
    {
      "cell_type": "code",
      "source": [
        "# print third and fourth\n",
        "\n",
        "my_garage = (\"Audi\", \"BMW\", \"Toyota\", \"Chevy\", \"VW\", \"Ford\")\n",
        "print(my_garage[2:4])"
      ],
      "metadata": {
        "colab": {
          "base_uri": "https://localhost:8080/"
        },
        "id": "XC2oRL6B48qf",
        "outputId": "f97702b6-36ba-4f06-db96-cca79bca9350"
      },
      "execution_count": 19,
      "outputs": [
        {
          "output_type": "stream",
          "name": "stdout",
          "text": [
            "('Toyota', 'Chevy')\n"
          ]
        }
      ]
    },
    {
      "cell_type": "markdown",
      "source": [
        "**Range of Negative Indexes**\n",
        "- Specify negative indexes if you want to start the search from the end of the tuple."
      ],
      "metadata": {
        "id": "hgbN_aDs5E81"
      }
    },
    {
      "cell_type": "code",
      "source": [
        "# This example returns the items from index -4\n",
        "# (included) to index -1 (excluded)\n",
        "\n",
        "my_garage = (\"Audi\", \"BMW\", \"Toyota\", \"Chevy\", \"VW\", \"Ford\")\n",
        "print(my_garage[-4:-1])"
      ],
      "metadata": {
        "id": "JP-KEPzC5SkP"
      },
      "execution_count": null,
      "outputs": []
    },
    {
      "cell_type": "markdown",
      "source": [
        "**Check if Item Exists**\n",
        "- To determine if a specified item is present in a tuple use the in keyword."
      ],
      "metadata": {
        "id": "7v9UIvyz5qsv"
      }
    },
    {
      "cell_type": "code",
      "source": [
        "#Check is \"Audi\" is present in the tuple:\n",
        "\n",
        "my_garage = (\"Audi\", \"BMW\", \"Toyota\", \"Chevy\", \"VW\", \"Ford\")\n",
        "if \"Audi\" in my_garage:\n",
        "  print(\"Yes, 'Audi' is in the garage\")"
      ],
      "metadata": {
        "colab": {
          "base_uri": "https://localhost:8080/"
        },
        "id": "5aepqoRK5v2P",
        "outputId": "b136dd46-4c5a-4709-ea8c-6ac3204e2f90"
      },
      "execution_count": 20,
      "outputs": [
        {
          "output_type": "stream",
          "name": "stdout",
          "text": [
            "Yes, 'Audi' is in the garage\n"
          ]
        }
      ]
    }
  ]
}